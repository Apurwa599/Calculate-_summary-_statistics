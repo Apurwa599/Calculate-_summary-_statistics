{
 "cells": [
  {
   "cell_type": "code",
   "execution_count": 1,
   "metadata": {
    "_cell_guid": "b1076dfc-b9ad-4769-8c92-a6c4dae69d19",
    "_uuid": "8f2839f25d086af736a60e9eeb907d3b93b6e0e5",
    "execution": {
     "iopub.execute_input": "2023-10-20T23:40:10.160916Z",
     "iopub.status.busy": "2023-10-20T23:40:10.160512Z",
     "iopub.status.idle": "2023-10-20T23:40:11.516501Z",
     "shell.execute_reply": "2023-10-20T23:40:11.515135Z",
     "shell.execute_reply.started": "2023-10-20T23:40:10.160891Z"
    }
   },
   "outputs": [],
   "source": [
Import the data
    "import numpy as np\n",
    "import pandas as pd\n",
    "from sklearn.model_selection import train_test_split, GridSearchCV,cross_val_score\n",
    "from sklearn.metrics import mean_squared_error, r2_score\n",
    "import matplotlib.pyplot as plt\n",
    "from sklearn.preprocessing import scale\n",
    "from sklearn import model_selection\n",
    "from sklearn.tree import DecisionTreeRegressor, DecisionTreeClassifier\n",
    "from sklearn.neighbors import KNeighborsRegressor\n",
    "from sklearn.ensemble import BaggingRegressor\n",
    "from sklearn.ensemble import RandomForestClassifier\n",
    "from sklearn.ensemble import RandomForestRegressor\n",
    "\n",
    "import os\n",
    "for dirname, _, filenames in os.walk('/kaggle/input'):\n",
    "    for filename in filenames:\n",
    "        print(os.path.join(dirname, filename))"
   ]
  },
  {
   "cell_type": "code",
   "execution_count": 2,
   "metadata": {
    "execution": {
     "iopub.execute_input": "2023-10-20T23:59:32.529657Z",
     "iopub.status.busy": "2023-10-20T23:59:32.529252Z",
     "iopub.status.idle": "2023-10-20T23:59:32.548692Z",
     "shell.execute_reply": "2023-10-20T23:59:32.546369Z",
     "shell.execute_reply.started": "2023-10-20T23:59:32.529631Z"
    }
   },
   "outputs": [],
   "source": [
    "train_data = pd.read_csv(\"train.csv\")\n",
    "test_data = pd.read_csv(\"test.csv\")"
   ]
  },
  {
   "cell_type": "markdown",
   "metadata": {},
   "source": [
    "# What is the average age of the Titanic passengers?"
   ]
  },
  {
   "cell_type": "code",
   "execution_count": 28,
   "metadata": {
    "execution": {
     "iopub.execute_input": "2023-10-20T23:59:35.049368Z",
     "iopub.status.busy": "2023-10-20T23:59:35.048906Z",
     "iopub.status.idle": "2023-10-20T23:59:35.057205Z",
     "shell.execute_reply": "2023-10-20T23:59:35.055787Z",
     "shell.execute_reply.started": "2023-10-20T23:59:35.049336Z"
    }
   },
   "outputs": [
    {
     "name": "stdout",
     "output_type": "stream",
     "text": [
      "29.69911764705882\n"
     ]
    }
   ],
   "source": [
    "mean_value = train_data['Age'].mean()\n",
    "print(mean_value)"
   ]
  },
  {
   "cell_type": "code",
   "execution_count": 130,
   "metadata": {
    "execution": {
     "iopub.execute_input": "2023-10-20T23:59:37.510815Z",
     "iopub.status.busy": "2023-10-20T23:59:37.510398Z",
     "iopub.status.idle": "2023-10-20T23:59:37.517692Z",
     "shell.execute_reply": "2023-10-20T23:59:37.516517Z",
     "shell.execute_reply.started": "2023-10-20T23:59:37.510783Z"
    }
   },
   "outputs": [],
   "source": [
    "train_data['Age'].fillna(value=mean_value, inplace=True)"
   ]
  },
  {
   "cell_type": "code",
   "execution_count": 131,
   "metadata": {
    "execution": {
     "iopub.execute_input": "2023-10-20T23:59:39.689590Z",
     "iopub.status.busy": "2023-10-20T23:59:39.689199Z",
     "iopub.status.idle": "2023-10-20T23:59:39.724856Z",
     "shell.execute_reply": "2023-10-20T23:59:39.724018Z",
     "shell.execute_reply.started": "2023-10-20T23:59:39.689568Z"
    }
   },
   "outputs": [
    {
     "data": {
      "text/html": [
       "<div>\n",
       "<style scoped>\n",
       "    .dataframe tbody tr th:only-of-type {\n",
       "        vertical-align: middle;\n",
       "    }\n",
       "\n",
       "    .dataframe tbody tr th {\n",
       "        vertical-align: top;\n",
       "    }\n",
       "\n",
       "    .dataframe thead th {\n",
       "        text-align: right;\n",
       "    }\n",
       "</style>\n",
       "<table border=\"1\" class=\"dataframe\">\n",
       "  <thead>\n",
       "    <tr style=\"text-align: right;\">\n",
       "      <th></th>\n",
       "      <th>count</th>\n",
       "      <th>mean</th>\n",
       "      <th>std</th>\n",
       "      <th>min</th>\n",
       "      <th>25%</th>\n",
       "      <th>50%</th>\n",
       "      <th>75%</th>\n",
       "      <th>max</th>\n",
       "    </tr>\n",
       "  </thead>\n",
       "  <tbody>\n",
       "    <tr>\n",
       "      <th>PassengerId</th>\n",
       "      <td>891.0</td>\n",
       "      <td>446.000000</td>\n",
       "      <td>257.353842</td>\n",
       "      <td>1.00</td>\n",
       "      <td>223.5000</td>\n",
       "      <td>446.000000</td>\n",
       "      <td>668.5</td>\n",
       "      <td>891.0000</td>\n",
       "    </tr>\n",
       "    <tr>\n",
       "      <th>Survived</th>\n",
       "      <td>891.0</td>\n",
       "      <td>0.383838</td>\n",
       "      <td>0.486592</td>\n",
       "      <td>0.00</td>\n",
       "      <td>0.0000</td>\n",
       "      <td>0.000000</td>\n",
       "      <td>1.0</td>\n",
       "      <td>1.0000</td>\n",
       "    </tr>\n",
       "    <tr>\n",
       "      <th>Pclass</th>\n",
       "      <td>891.0</td>\n",
       "      <td>2.308642</td>\n",
       "      <td>0.836071</td>\n",
       "      <td>1.00</td>\n",
       "      <td>2.0000</td>\n",
       "      <td>3.000000</td>\n",
       "      <td>3.0</td>\n",
       "      <td>3.0000</td>\n",
       "    </tr>\n",
       "    <tr>\n",
       "      <th>Age</th>\n",
       "      <td>891.0</td>\n",
       "      <td>29.789601</td>\n",
       "      <td>13.003287</td>\n",
       "      <td>0.42</td>\n",
       "      <td>22.0000</td>\n",
       "      <td>30.154603</td>\n",
       "      <td>35.0</td>\n",
       "      <td>80.0000</td>\n",
       "    </tr>\n",
       "    <tr>\n",
       "      <th>SibSp</th>\n",
       "      <td>891.0</td>\n",
       "      <td>0.523008</td>\n",
       "      <td>1.102743</td>\n",
       "      <td>0.00</td>\n",
       "      <td>0.0000</td>\n",
       "      <td>0.000000</td>\n",
       "      <td>1.0</td>\n",
       "      <td>8.0000</td>\n",
       "    </tr>\n",
       "    <tr>\n",
       "      <th>Parch</th>\n",
       "      <td>891.0</td>\n",
       "      <td>0.381594</td>\n",
       "      <td>0.806057</td>\n",
       "      <td>0.00</td>\n",
       "      <td>0.0000</td>\n",
       "      <td>0.000000</td>\n",
       "      <td>0.0</td>\n",
       "      <td>6.0000</td>\n",
       "    </tr>\n",
       "    <tr>\n",
       "      <th>Fare</th>\n",
       "      <td>891.0</td>\n",
       "      <td>32.204208</td>\n",
       "      <td>49.693429</td>\n",
       "      <td>0.00</td>\n",
       "      <td>7.9104</td>\n",
       "      <td>14.454200</td>\n",
       "      <td>31.0</td>\n",
       "      <td>512.3292</td>\n",
       "    </tr>\n",
       "  </tbody>\n",
       "</table>\n",
       "</div>"
      ],
      "text/plain": [
       "             count        mean         std   min       25%         50%    75%  \\\n",
       "PassengerId  891.0  446.000000  257.353842  1.00  223.5000  446.000000  668.5   \n",
       "Survived     891.0    0.383838    0.486592  0.00    0.0000    0.000000    1.0   \n",
       "Pclass       891.0    2.308642    0.836071  1.00    2.0000    3.000000    3.0   \n",
       "Age          891.0   29.789601   13.003287  0.42   22.0000   30.154603   35.0   \n",
       "SibSp        891.0    0.523008    1.102743  0.00    0.0000    0.000000    1.0   \n",
       "Parch        891.0    0.381594    0.806057  0.00    0.0000    0.000000    0.0   \n",
       "Fare         891.0   32.204208   49.693429  0.00    7.9104   14.454200   31.0   \n",
       "\n",
       "                  max  \n",
       "PassengerId  891.0000  \n",
       "Survived       1.0000  \n",
       "Pclass         3.0000  \n",
       "Age           80.0000  \n",
       "SibSp          8.0000  \n",
       "Parch          6.0000  \n",
       "Fare         512.3292  "
      ]
     },
     "execution_count": 131,
     "metadata": {},
     "output_type": "execute_result"
    }
   ],
   "source": [
    "train_data.describe().T"
   ]
  },
  {
   "cell_type": "code",
   "execution_count": 132,
   "metadata": {},
   "outputs": [
    {
     "data": {
      "text/html": [
       "<div>\n",
       "<style scoped>\n",
       "    .dataframe tbody tr th:only-of-type {\n",
       "        vertical-align: middle;\n",
       "    }\n",
       "\n",
       "    .dataframe tbody tr th {\n",
       "        vertical-align: top;\n",
       "    }\n",
       "\n",
       "    .dataframe thead th {\n",
       "        text-align: right;\n",
       "    }\n",
       "</style>\n",
       "<table border=\"1\" class=\"dataframe\">\n",
       "  <thead>\n",
       "    <tr style=\"text-align: right;\">\n",
       "      <th></th>\n",
       "      <th>count</th>\n",
       "      <th>mean</th>\n",
       "      <th>std</th>\n",
       "      <th>min</th>\n",
       "      <th>25%</th>\n",
       "      <th>50%</th>\n",
       "      <th>75%</th>\n",
       "      <th>max</th>\n",
       "    </tr>\n",
       "  </thead>\n",
       "  <tbody>\n",
       "    <tr>\n",
       "      <th>PassengerId</th>\n",
       "      <td>418.0</td>\n",
       "      <td>1100.500000</td>\n",
       "      <td>120.810458</td>\n",
       "      <td>892.00</td>\n",
       "      <td>996.2500</td>\n",
       "      <td>1100.500000</td>\n",
       "      <td>1204.75</td>\n",
       "      <td>1309.0000</td>\n",
       "    </tr>\n",
       "    <tr>\n",
       "      <th>Pclass</th>\n",
       "      <td>418.0</td>\n",
       "      <td>2.265550</td>\n",
       "      <td>0.841838</td>\n",
       "      <td>1.00</td>\n",
       "      <td>1.0000</td>\n",
       "      <td>3.000000</td>\n",
       "      <td>3.00</td>\n",
       "      <td>3.0000</td>\n",
       "    </tr>\n",
       "    <tr>\n",
       "      <th>Age</th>\n",
       "      <td>418.0</td>\n",
       "      <td>30.154603</td>\n",
       "      <td>12.636666</td>\n",
       "      <td>0.17</td>\n",
       "      <td>23.0000</td>\n",
       "      <td>29.699118</td>\n",
       "      <td>35.75</td>\n",
       "      <td>76.0000</td>\n",
       "    </tr>\n",
       "    <tr>\n",
       "      <th>SibSp</th>\n",
       "      <td>418.0</td>\n",
       "      <td>0.447368</td>\n",
       "      <td>0.896760</td>\n",
       "      <td>0.00</td>\n",
       "      <td>0.0000</td>\n",
       "      <td>0.000000</td>\n",
       "      <td>1.00</td>\n",
       "      <td>8.0000</td>\n",
       "    </tr>\n",
       "    <tr>\n",
       "      <th>Parch</th>\n",
       "      <td>418.0</td>\n",
       "      <td>0.392344</td>\n",
       "      <td>0.981429</td>\n",
       "      <td>0.00</td>\n",
       "      <td>0.0000</td>\n",
       "      <td>0.000000</td>\n",
       "      <td>0.00</td>\n",
       "      <td>9.0000</td>\n",
       "    </tr>\n",
       "    <tr>\n",
       "      <th>Fare</th>\n",
       "      <td>417.0</td>\n",
       "      <td>35.627188</td>\n",
       "      <td>55.907576</td>\n",
       "      <td>0.00</td>\n",
       "      <td>7.8958</td>\n",
       "      <td>14.454200</td>\n",
       "      <td>31.50</td>\n",
       "      <td>512.3292</td>\n",
       "    </tr>\n",
       "  </tbody>\n",
       "</table>\n",
       "</div>"
      ],
      "text/plain": [
       "             count         mean         std     min       25%          50%  \\\n",
       "PassengerId  418.0  1100.500000  120.810458  892.00  996.2500  1100.500000   \n",
       "Pclass       418.0     2.265550    0.841838    1.00    1.0000     3.000000   \n",
       "Age          418.0    30.154603   12.636666    0.17   23.0000    29.699118   \n",
       "SibSp        418.0     0.447368    0.896760    0.00    0.0000     0.000000   \n",
       "Parch        418.0     0.392344    0.981429    0.00    0.0000     0.000000   \n",
       "Fare         417.0    35.627188   55.907576    0.00    7.8958    14.454200   \n",
       "\n",
       "                 75%        max  \n",
       "PassengerId  1204.75  1309.0000  \n",
       "Pclass          3.00     3.0000  \n",
       "Age            35.75    76.0000  \n",
       "SibSp           1.00     8.0000  \n",
       "Parch           0.00     9.0000  \n",
       "Fare           31.50   512.3292  "
      ]
     },
     "execution_count": 132,
     "metadata": {},
     "output_type": "execute_result"
    }
   ],
   "source": [
    "test_data.describe().T"
   ]
  },
  {
   "cell_type": "code",
   "execution_count": 133,
   "metadata": {
    "execution": {
     "iopub.execute_input": "2023-10-20T23:59:43.878314Z",
     "iopub.status.busy": "2023-10-20T23:59:43.877919Z",
     "iopub.status.idle": "2023-10-20T23:59:43.891839Z",
     "shell.execute_reply": "2023-10-20T23:59:43.890300Z",
     "shell.execute_reply.started": "2023-10-20T23:59:43.878286Z"
    }
   },
   "outputs": [
    {
     "name": "stdout",
     "output_type": "stream",
     "text": [
      "<class 'pandas.core.frame.DataFrame'>\n",
      "RangeIndex: 891 entries, 0 to 890\n",
      "Data columns (total 12 columns):\n",
      " #   Column       Non-Null Count  Dtype  \n",
      "---  ------       --------------  -----  \n",
      " 0   PassengerId  891 non-null    int64  \n",
      " 1   Survived     891 non-null    int64  \n",
      " 2   Pclass       891 non-null    int64  \n",
      " 3   Name         891 non-null    object \n",
      " 4   Sex          891 non-null    object \n",
      " 5   Age          891 non-null    float64\n",
      " 6   SibSp        891 non-null    int64  \n",
      " 7   Parch        891 non-null    int64  \n",
      " 8   Ticket       891 non-null    object \n",
      " 9   Fare         891 non-null    float64\n",
      " 10  Cabin        204 non-null    object \n",
      " 11  Embarked     889 non-null    object \n",
      "dtypes: float64(2), int64(5), object(5)\n",
      "memory usage: 83.7+ KB\n"
     ]
    }
   ],
   "source": [
    "train_data.info()"
   ]
  },
  {
   "cell_type": "code",
   "execution_count": 134,
   "metadata": {},
   "outputs": [
    {
     "name": "stdout",
     "output_type": "stream",
     "text": [
      "<class 'pandas.core.frame.DataFrame'>\n",
      "RangeIndex: 418 entries, 0 to 417\n",
      "Data columns (total 11 columns):\n",
      " #   Column       Non-Null Count  Dtype  \n",
      "---  ------       --------------  -----  \n",
      " 0   PassengerId  418 non-null    int64  \n",
      " 1   Pclass       418 non-null    int64  \n",
      " 2   Name         418 non-null    object \n",
      " 3   Sex          418 non-null    object \n",
      " 4   Age          418 non-null    float64\n",
      " 5   SibSp        418 non-null    int64  \n",
      " 6   Parch        418 non-null    int64  \n",
      " 7   Ticket       418 non-null    object \n",
      " 8   Fare         417 non-null    float64\n",
      " 9   Cabin        91 non-null     object \n",
      " 10  Embarked     418 non-null    object \n",
      "dtypes: float64(2), int64(4), object(5)\n",
      "memory usage: 36.1+ KB\n"
     ]
    }
   ],
   "source": [
    "test_data.info()"
   ]
  },
  {
   "cell_type": "code",
   "execution_count": 32,
   "metadata": {
    "execution": {
     "iopub.execute_input": "2023-10-20T23:59:46.382879Z",
     "iopub.status.busy": "2023-10-20T23:59:46.382453Z",
     "iopub.status.idle": "2023-10-20T23:59:46.400518Z",
     "shell.execute_reply": "2023-10-20T23:59:46.398577Z",
     "shell.execute_reply.started": "2023-10-20T23:59:46.382849Z"
    }
   },
   "outputs": [
    {
     "data": {
      "text/html": [
       "<div>\n",
       "<style scoped>\n",
       "    .dataframe tbody tr th:only-of-type {\n",
       "        vertical-align: middle;\n",
       "    }\n",
       "\n",
       "    .dataframe tbody tr th {\n",
       "        vertical-align: top;\n",
       "    }\n",
       "\n",
       "    .dataframe thead th {\n",
       "        text-align: right;\n",
       "    }\n",
       "</style>\n",
       "<table border=\"1\" class=\"dataframe\">\n",
       "  <thead>\n",
       "    <tr style=\"text-align: right;\">\n",
       "      <th></th>\n",
       "      <th>PassengerId</th>\n",
       "      <th>Survived</th>\n",
       "      <th>Pclass</th>\n",
       "      <th>Name</th>\n",
       "      <th>Sex</th>\n",
       "      <th>Age</th>\n",
       "      <th>SibSp</th>\n",
       "      <th>Parch</th>\n",
       "      <th>Ticket</th>\n",
       "      <th>Fare</th>\n",
       "      <th>Cabin</th>\n",
       "      <th>Embarked</th>\n",
       "    </tr>\n",
       "  </thead>\n",
       "  <tbody>\n",
       "    <tr>\n",
       "      <th>0</th>\n",
       "      <td>1</td>\n",
       "      <td>0</td>\n",
       "      <td>3</td>\n",
       "      <td>Braund, Mr. Owen Harris</td>\n",
       "      <td>male</td>\n",
       "      <td>22.0</td>\n",
       "      <td>1</td>\n",
       "      <td>0</td>\n",
       "      <td>A/5 21171</td>\n",
       "      <td>7.2500</td>\n",
       "      <td>NaN</td>\n",
       "      <td>S</td>\n",
       "    </tr>\n",
       "    <tr>\n",
       "      <th>1</th>\n",
       "      <td>2</td>\n",
       "      <td>1</td>\n",
       "      <td>1</td>\n",
       "      <td>Cumings, Mrs. John Bradley (Florence Briggs Th...</td>\n",
       "      <td>female</td>\n",
       "      <td>38.0</td>\n",
       "      <td>1</td>\n",
       "      <td>0</td>\n",
       "      <td>PC 17599</td>\n",
       "      <td>71.2833</td>\n",
       "      <td>C85</td>\n",
       "      <td>C</td>\n",
       "    </tr>\n",
       "    <tr>\n",
       "      <th>2</th>\n",
       "      <td>3</td>\n",
       "      <td>1</td>\n",
       "      <td>3</td>\n",
       "      <td>Heikkinen, Miss. Laina</td>\n",
       "      <td>female</td>\n",
       "      <td>26.0</td>\n",
       "      <td>0</td>\n",
       "      <td>0</td>\n",
       "      <td>STON/O2. 3101282</td>\n",
       "      <td>7.9250</td>\n",
       "      <td>NaN</td>\n",
       "      <td>S</td>\n",
       "    </tr>\n",
       "    <tr>\n",
       "      <th>3</th>\n",
       "      <td>4</td>\n",
       "      <td>1</td>\n",
       "      <td>1</td>\n",
       "      <td>Futrelle, Mrs. Jacques Heath (Lily May Peel)</td>\n",
       "      <td>female</td>\n",
       "      <td>35.0</td>\n",
       "      <td>1</td>\n",
       "      <td>0</td>\n",
       "      <td>113803</td>\n",
       "      <td>53.1000</td>\n",
       "      <td>C123</td>\n",
       "      <td>S</td>\n",
       "    </tr>\n",
       "    <tr>\n",
       "      <th>4</th>\n",
       "      <td>5</td>\n",
       "      <td>0</td>\n",
       "      <td>3</td>\n",
       "      <td>Allen, Mr. William Henry</td>\n",
       "      <td>male</td>\n",
       "      <td>35.0</td>\n",
       "      <td>0</td>\n",
       "      <td>0</td>\n",
       "      <td>373450</td>\n",
       "      <td>8.0500</td>\n",
       "      <td>NaN</td>\n",
       "      <td>S</td>\n",
       "    </tr>\n",
       "  </tbody>\n",
       "</table>\n",
       "</div>"
      ],
      "text/plain": [
       "   PassengerId  Survived  Pclass  \\\n",
       "0            1         0       3   \n",
       "1            2         1       1   \n",
       "2            3         1       3   \n",
       "3            4         1       1   \n",
       "4            5         0       3   \n",
       "\n",
       "                                                Name     Sex   Age  SibSp  \\\n",
       "0                            Braund, Mr. Owen Harris    male  22.0      1   \n",
       "1  Cumings, Mrs. John Bradley (Florence Briggs Th...  female  38.0      1   \n",
       "2                             Heikkinen, Miss. Laina  female  26.0      0   \n",
       "3       Futrelle, Mrs. Jacques Heath (Lily May Peel)  female  35.0      1   \n",
       "4                           Allen, Mr. William Henry    male  35.0      0   \n",
       "\n",
       "   Parch            Ticket     Fare Cabin Embarked  \n",
       "0      0         A/5 21171   7.2500   NaN        S  \n",
       "1      0          PC 17599  71.2833   C85        C  \n",
       "2      0  STON/O2. 3101282   7.9250   NaN        S  \n",
       "3      0            113803  53.1000  C123        S  \n",
       "4      0            373450   8.0500   NaN        S  "
      ]
     },
     "execution_count": 32,
     "metadata": {},
     "output_type": "execute_result"
    }
   ],
   "source": [
    "train_data.head()"
   ]
  },
  {
   "cell_type": "code",
   "execution_count": 126,
   "metadata": {},
   "outputs": [
    {
     "data": {
      "text/html": [
       "<div>\n",
       "<style scoped>\n",
       "    .dataframe tbody tr th:only-of-type {\n",
       "        vertical-align: middle;\n",
       "    }\n",
       "\n",
       "    .dataframe tbody tr th {\n",
       "        vertical-align: top;\n",
       "    }\n",
       "\n",
       "    .dataframe thead th {\n",
       "        text-align: right;\n",
       "    }\n",
       "</style>\n",
       "<table border=\"1\" class=\"dataframe\">\n",
       "  <thead>\n",
       "    <tr style=\"text-align: right;\">\n",
       "      <th></th>\n",
       "      <th>PassengerId</th>\n",
       "      <th>Pclass</th>\n",
       "      <th>Name</th>\n",
       "      <th>Sex</th>\n",
       "      <th>Age</th>\n",
       "      <th>SibSp</th>\n",
       "      <th>Parch</th>\n",
       "      <th>Ticket</th>\n",
       "      <th>Fare</th>\n",
       "      <th>Cabin</th>\n",
       "      <th>Embarked</th>\n",
       "    </tr>\n",
       "  </thead>\n",
       "  <tbody>\n",
       "    <tr>\n",
       "      <th>0</th>\n",
       "      <td>892</td>\n",
       "      <td>3</td>\n",
       "      <td>Kelly, Mr. James</td>\n",
       "      <td>male</td>\n",
       "      <td>34.5</td>\n",
       "      <td>0</td>\n",
       "      <td>0</td>\n",
       "      <td>330911</td>\n",
       "      <td>7.8292</td>\n",
       "      <td>NaN</td>\n",
       "      <td>Q</td>\n",
       "    </tr>\n",
       "    <tr>\n",
       "      <th>1</th>\n",
       "      <td>893</td>\n",
       "      <td>3</td>\n",
       "      <td>Wilkes, Mrs. James (Ellen Needs)</td>\n",
       "      <td>female</td>\n",
       "      <td>47.0</td>\n",
       "      <td>1</td>\n",
       "      <td>0</td>\n",
       "      <td>363272</td>\n",
       "      <td>7.0000</td>\n",
       "      <td>NaN</td>\n",
       "      <td>S</td>\n",
       "    </tr>\n",
       "    <tr>\n",
       "      <th>2</th>\n",
       "      <td>894</td>\n",
       "      <td>2</td>\n",
       "      <td>Myles, Mr. Thomas Francis</td>\n",
       "      <td>male</td>\n",
       "      <td>62.0</td>\n",
       "      <td>0</td>\n",
       "      <td>0</td>\n",
       "      <td>240276</td>\n",
       "      <td>9.6875</td>\n",
       "      <td>NaN</td>\n",
       "      <td>Q</td>\n",
       "    </tr>\n",
       "    <tr>\n",
       "      <th>3</th>\n",
       "      <td>895</td>\n",
       "      <td>3</td>\n",
       "      <td>Wirz, Mr. Albert</td>\n",
       "      <td>male</td>\n",
       "      <td>27.0</td>\n",
       "      <td>0</td>\n",
       "      <td>0</td>\n",
       "      <td>315154</td>\n",
       "      <td>8.6625</td>\n",
       "      <td>NaN</td>\n",
       "      <td>S</td>\n",
       "    </tr>\n",
       "    <tr>\n",
       "      <th>4</th>\n",
       "      <td>896</td>\n",
       "      <td>3</td>\n",
       "      <td>Hirvonen, Mrs. Alexander (Helga E Lindqvist)</td>\n",
       "      <td>female</td>\n",
       "      <td>22.0</td>\n",
       "      <td>1</td>\n",
       "      <td>1</td>\n",
       "      <td>3101298</td>\n",
       "      <td>12.2875</td>\n",
       "      <td>NaN</td>\n",
       "      <td>S</td>\n",
       "    </tr>\n",
       "  </tbody>\n",
       "</table>\n",
       "</div>"
      ],
      "text/plain": [
       "   PassengerId  Pclass                                          Name     Sex  \\\n",
       "0          892       3                              Kelly, Mr. James    male   \n",
       "1          893       3              Wilkes, Mrs. James (Ellen Needs)  female   \n",
       "2          894       2                     Myles, Mr. Thomas Francis    male   \n",
       "3          895       3                              Wirz, Mr. Albert    male   \n",
       "4          896       3  Hirvonen, Mrs. Alexander (Helga E Lindqvist)  female   \n",
       "\n",
       "    Age  SibSp  Parch   Ticket     Fare Cabin Embarked  \n",
       "0  34.5      0      0   330911   7.8292   NaN        Q  \n",
       "1  47.0      1      0   363272   7.0000   NaN        S  \n",
       "2  62.0      0      0   240276   9.6875   NaN        Q  \n",
       "3  27.0      0      0   315154   8.6625   NaN        S  \n",
       "4  22.0      1      1  3101298  12.2875   NaN        S  "
      ]
     },
     "execution_count": 126,
     "metadata": {},
     "output_type": "execute_result"
    }
   ],
   "source": [
    "test_data.head()"
   ]
  },
  {
   "cell_type": "code",
   "execution_count": 33,
   "metadata": {},
   "outputs": [
    {
     "data": {
      "text/html": [
       "<div>\n",
       "<style scoped>\n",
       "    .dataframe tbody tr th:only-of-type {\n",
       "        vertical-align: middle;\n",
       "    }\n",
       "\n",
       "    .dataframe tbody tr th {\n",
       "        vertical-align: top;\n",
       "    }\n",
       "\n",
       "    .dataframe thead th {\n",
       "        text-align: right;\n",
       "    }\n",
       "</style>\n",
       "<table border=\"1\" class=\"dataframe\">\n",
       "  <thead>\n",
       "    <tr style=\"text-align: right;\">\n",
       "      <th></th>\n",
       "      <th>PassengerId</th>\n",
       "      <th>Survived</th>\n",
       "      <th>Pclass</th>\n",
       "      <th>Name</th>\n",
       "      <th>Sex</th>\n",
       "      <th>Age</th>\n",
       "      <th>SibSp</th>\n",
       "      <th>Parch</th>\n",
       "      <th>Ticket</th>\n",
       "      <th>Fare</th>\n",
       "      <th>Cabin</th>\n",
       "      <th>Embarked</th>\n",
       "    </tr>\n",
       "  </thead>\n",
       "  <tbody>\n",
       "    <tr>\n",
       "      <th>886</th>\n",
       "      <td>887</td>\n",
       "      <td>0</td>\n",
       "      <td>2</td>\n",
       "      <td>Montvila, Rev. Juozas</td>\n",
       "      <td>male</td>\n",
       "      <td>27.000000</td>\n",
       "      <td>0</td>\n",
       "      <td>0</td>\n",
       "      <td>211536</td>\n",
       "      <td>13.00</td>\n",
       "      <td>NaN</td>\n",
       "      <td>S</td>\n",
       "    </tr>\n",
       "    <tr>\n",
       "      <th>887</th>\n",
       "      <td>888</td>\n",
       "      <td>1</td>\n",
       "      <td>1</td>\n",
       "      <td>Graham, Miss. Margaret Edith</td>\n",
       "      <td>female</td>\n",
       "      <td>19.000000</td>\n",
       "      <td>0</td>\n",
       "      <td>0</td>\n",
       "      <td>112053</td>\n",
       "      <td>30.00</td>\n",
       "      <td>B42</td>\n",
       "      <td>S</td>\n",
       "    </tr>\n",
       "    <tr>\n",
       "      <th>888</th>\n",
       "      <td>889</td>\n",
       "      <td>0</td>\n",
       "      <td>3</td>\n",
       "      <td>Johnston, Miss. Catherine Helen \"Carrie\"</td>\n",
       "      <td>female</td>\n",
       "      <td>29.699118</td>\n",
       "      <td>1</td>\n",
       "      <td>2</td>\n",
       "      <td>W./C. 6607</td>\n",
       "      <td>23.45</td>\n",
       "      <td>NaN</td>\n",
       "      <td>S</td>\n",
       "    </tr>\n",
       "    <tr>\n",
       "      <th>889</th>\n",
       "      <td>890</td>\n",
       "      <td>1</td>\n",
       "      <td>1</td>\n",
       "      <td>Behr, Mr. Karl Howell</td>\n",
       "      <td>male</td>\n",
       "      <td>26.000000</td>\n",
       "      <td>0</td>\n",
       "      <td>0</td>\n",
       "      <td>111369</td>\n",
       "      <td>30.00</td>\n",
       "      <td>C148</td>\n",
       "      <td>C</td>\n",
       "    </tr>\n",
       "    <tr>\n",
       "      <th>890</th>\n",
       "      <td>891</td>\n",
       "      <td>0</td>\n",
       "      <td>3</td>\n",
       "      <td>Dooley, Mr. Patrick</td>\n",
       "      <td>male</td>\n",
       "      <td>32.000000</td>\n",
       "      <td>0</td>\n",
       "      <td>0</td>\n",
       "      <td>370376</td>\n",
       "      <td>7.75</td>\n",
       "      <td>NaN</td>\n",
       "      <td>Q</td>\n",
       "    </tr>\n",
       "  </tbody>\n",
       "</table>\n",
       "</div>"
      ],
      "text/plain": [
       "     PassengerId  Survived  Pclass                                      Name  \\\n",
       "886          887         0       2                     Montvila, Rev. Juozas   \n",
       "887          888         1       1              Graham, Miss. Margaret Edith   \n",
       "888          889         0       3  Johnston, Miss. Catherine Helen \"Carrie\"   \n",
       "889          890         1       1                     Behr, Mr. Karl Howell   \n",
       "890          891         0       3                       Dooley, Mr. Patrick   \n",
       "\n",
       "        Sex        Age  SibSp  Parch      Ticket   Fare Cabin Embarked  \n",
       "886    male  27.000000      0      0      211536  13.00   NaN        S  \n",
       "887  female  19.000000      0      0      112053  30.00   B42        S  \n",
       "888  female  29.699118      1      2  W./C. 6607  23.45   NaN        S  \n",
       "889    male  26.000000      0      0      111369  30.00  C148        C  \n",
       "890    male  32.000000      0      0      370376   7.75   NaN        Q  "
      ]
     },
     "execution_count": 33,
     "metadata": {},
     "output_type": "execute_result"
    }
   ],
   "source": [
    "train_data.tail()"
   ]
  },
  {
   "cell_type": "code",
   "execution_count": 127,
   "metadata": {},
   "outputs": [
    {
     "data": {
      "text/html": [
       "<div>\n",
       "<style scoped>\n",
       "    .dataframe tbody tr th:only-of-type {\n",
       "        vertical-align: middle;\n",
       "    }\n",
       "\n",
       "    .dataframe tbody tr th {\n",
       "        vertical-align: top;\n",
       "    }\n",
       "\n",
       "    .dataframe thead th {\n",
       "        text-align: right;\n",
       "    }\n",
       "</style>\n",
       "<table border=\"1\" class=\"dataframe\">\n",
       "  <thead>\n",
       "    <tr style=\"text-align: right;\">\n",
       "      <th></th>\n",
       "      <th>PassengerId</th>\n",
       "      <th>Pclass</th>\n",
       "      <th>Name</th>\n",
       "      <th>Sex</th>\n",
       "      <th>Age</th>\n",
       "      <th>SibSp</th>\n",
       "      <th>Parch</th>\n",
       "      <th>Ticket</th>\n",
       "      <th>Fare</th>\n",
       "      <th>Cabin</th>\n",
       "      <th>Embarked</th>\n",
       "    </tr>\n",
       "  </thead>\n",
       "  <tbody>\n",
       "    <tr>\n",
       "      <th>413</th>\n",
       "      <td>1305</td>\n",
       "      <td>3</td>\n",
       "      <td>Spector, Mr. Woolf</td>\n",
       "      <td>male</td>\n",
       "      <td>29.699118</td>\n",
       "      <td>0</td>\n",
       "      <td>0</td>\n",
       "      <td>A.5. 3236</td>\n",
       "      <td>8.0500</td>\n",
       "      <td>NaN</td>\n",
       "      <td>S</td>\n",
       "    </tr>\n",
       "    <tr>\n",
       "      <th>414</th>\n",
       "      <td>1306</td>\n",
       "      <td>1</td>\n",
       "      <td>Oliva y Ocana, Dona. Fermina</td>\n",
       "      <td>female</td>\n",
       "      <td>39.000000</td>\n",
       "      <td>0</td>\n",
       "      <td>0</td>\n",
       "      <td>PC 17758</td>\n",
       "      <td>108.9000</td>\n",
       "      <td>C105</td>\n",
       "      <td>C</td>\n",
       "    </tr>\n",
       "    <tr>\n",
       "      <th>415</th>\n",
       "      <td>1307</td>\n",
       "      <td>3</td>\n",
       "      <td>Saether, Mr. Simon Sivertsen</td>\n",
       "      <td>male</td>\n",
       "      <td>38.500000</td>\n",
       "      <td>0</td>\n",
       "      <td>0</td>\n",
       "      <td>SOTON/O.Q. 3101262</td>\n",
       "      <td>7.2500</td>\n",
       "      <td>NaN</td>\n",
       "      <td>S</td>\n",
       "    </tr>\n",
       "    <tr>\n",
       "      <th>416</th>\n",
       "      <td>1308</td>\n",
       "      <td>3</td>\n",
       "      <td>Ware, Mr. Frederick</td>\n",
       "      <td>male</td>\n",
       "      <td>29.699118</td>\n",
       "      <td>0</td>\n",
       "      <td>0</td>\n",
       "      <td>359309</td>\n",
       "      <td>8.0500</td>\n",
       "      <td>NaN</td>\n",
       "      <td>S</td>\n",
       "    </tr>\n",
       "    <tr>\n",
       "      <th>417</th>\n",
       "      <td>1309</td>\n",
       "      <td>3</td>\n",
       "      <td>Peter, Master. Michael J</td>\n",
       "      <td>male</td>\n",
       "      <td>29.699118</td>\n",
       "      <td>1</td>\n",
       "      <td>1</td>\n",
       "      <td>2668</td>\n",
       "      <td>22.3583</td>\n",
       "      <td>NaN</td>\n",
       "      <td>C</td>\n",
       "    </tr>\n",
       "  </tbody>\n",
       "</table>\n",
       "</div>"
      ],
      "text/plain": [
       "     PassengerId  Pclass                          Name     Sex        Age  \\\n",
       "413         1305       3            Spector, Mr. Woolf    male  29.699118   \n",
       "414         1306       1  Oliva y Ocana, Dona. Fermina  female  39.000000   \n",
       "415         1307       3  Saether, Mr. Simon Sivertsen    male  38.500000   \n",
       "416         1308       3           Ware, Mr. Frederick    male  29.699118   \n",
       "417         1309       3      Peter, Master. Michael J    male  29.699118   \n",
       "\n",
       "     SibSp  Parch              Ticket      Fare Cabin Embarked  \n",
       "413      0      0           A.5. 3236    8.0500   NaN        S  \n",
       "414      0      0            PC 17758  108.9000  C105        C  \n",
       "415      0      0  SOTON/O.Q. 3101262    7.2500   NaN        S  \n",
       "416      0      0              359309    8.0500   NaN        S  \n",
       "417      1      1                2668   22.3583   NaN        C  "
      ]
     },
     "execution_count": 127,
     "metadata": {},
     "output_type": "execute_result"
    }
   ],
   "source": [
    "test_data.tail()"
   ]
  },
  {
   "cell_type": "markdown",
   "metadata": {},
   "source": [
    "# Mode of Titanic Passengers"
   ]
  },
  {
   "cell_type": "code",
   "execution_count": 129,
   "metadata": {},
   "outputs": [
    {
     "name": "stdout",
     "output_type": "stream",
     "text": [
      "Mode for each column:\n",
      "     PassengerId  Survived  Pclass                                   Name  \\\n",
      "0              1       0.0     3.0                    Abbing, Mr. Anthony   \n",
      "1              2       NaN     NaN            Abbott, Mr. Rossmore Edward   \n",
      "2              3       NaN     NaN       Abbott, Mrs. Stanton (Rosa Hunt)   \n",
      "3              4       NaN     NaN                    Abelson, Mr. Samuel   \n",
      "4              5       NaN     NaN  Abelson, Mrs. Samuel (Hannah Wizosky)   \n",
      "..           ...       ...     ...                                    ...   \n",
      "886          887       NaN     NaN                de Mulder, Mr. Theodore   \n",
      "887          888       NaN     NaN              de Pelsmaeker, Mr. Alfons   \n",
      "888          889       NaN     NaN              del Carlo, Mr. Sebastiano   \n",
      "889          890       NaN     NaN        van Billiard, Mr. Austin Blyler   \n",
      "890          891       NaN     NaN            van Melkebeke, Mr. Philemon   \n",
      "\n",
      "      Sex   Age  SibSp  Parch    Ticket  Fare        Cabin Embarked  \n",
      "0    male  24.0    0.0    0.0      1601  8.05      B96 B98        S  \n",
      "1     NaN   NaN    NaN    NaN    347082   NaN  C23 C25 C27      NaN  \n",
      "2     NaN   NaN    NaN    NaN  CA. 2343   NaN           G6      NaN  \n",
      "3     NaN   NaN    NaN    NaN       NaN   NaN          NaN      NaN  \n",
      "4     NaN   NaN    NaN    NaN       NaN   NaN          NaN      NaN  \n",
      "..    ...   ...    ...    ...       ...   ...          ...      ...  \n",
      "886   NaN   NaN    NaN    NaN       NaN   NaN          NaN      NaN  \n",
      "887   NaN   NaN    NaN    NaN       NaN   NaN          NaN      NaN  \n",
      "888   NaN   NaN    NaN    NaN       NaN   NaN          NaN      NaN  \n",
      "889   NaN   NaN    NaN    NaN       NaN   NaN          NaN      NaN  \n",
      "890   NaN   NaN    NaN    NaN       NaN   NaN          NaN      NaN  \n",
      "\n",
      "[891 rows x 12 columns]\n"
     ]
    }
   ],
   "source": [
    "train_data = pd.read_csv(\"train.csv\")\n",
    "\n",
    "# Calculate the mode for each column\n",
    "column_modes = train_data.mode()\n",
    "\n",
    "# Display the mode for each column\n",
    "print(\"Mode for each column:\")\n",
    "print(column_modes)"
   ]
  },
  {
   "cell_type": "markdown",
   "metadata": {},
   "source": [
    "# What is the median age and ticket fare price of the Titanic passengers ?"
   ]
  },
  {
   "cell_type": "code",
   "execution_count": 40,
   "metadata": {},
   "outputs": [
    {
     "data": {
      "text/plain": [
       "Age     29.699118\n",
       "Fare    14.454200\n",
       "dtype: float64"
      ]
     },
     "execution_count": 40,
     "metadata": {},
     "output_type": "execute_result"
    }
   ],
   "source": [
    "train_data[[\"Age\", \"Fare\"]].median()"
   ]
  },
  {
   "cell_type": "markdown",
   "metadata": {},
   "source": [
    "# What is the average age for male or female Titanic passengers?"
   ]
  },
  {
   "cell_type": "code",
   "execution_count": 41,
   "metadata": {},
   "outputs": [
    {
     "data": {
      "text/html": [
       "<div>\n",
       "<style scoped>\n",
       "    .dataframe tbody tr th:only-of-type {\n",
       "        vertical-align: middle;\n",
       "    }\n",
       "\n",
       "    .dataframe tbody tr th {\n",
       "        vertical-align: top;\n",
       "    }\n",
       "\n",
       "    .dataframe thead th {\n",
       "        text-align: right;\n",
       "    }\n",
       "</style>\n",
       "<table border=\"1\" class=\"dataframe\">\n",
       "  <thead>\n",
       "    <tr style=\"text-align: right;\">\n",
       "      <th></th>\n",
       "      <th>Age</th>\n",
       "    </tr>\n",
       "    <tr>\n",
       "      <th>Sex</th>\n",
       "      <th></th>\n",
       "    </tr>\n",
       "  </thead>\n",
       "  <tbody>\n",
       "    <tr>\n",
       "      <th>female</th>\n",
       "      <td>28.216730</td>\n",
       "    </tr>\n",
       "    <tr>\n",
       "      <th>male</th>\n",
       "      <td>30.505824</td>\n",
       "    </tr>\n",
       "  </tbody>\n",
       "</table>\n",
       "</div>"
      ],
      "text/plain": [
       "              Age\n",
       "Sex              \n",
       "female  28.216730\n",
       "male    30.505824"
      ]
     },
     "execution_count": 41,
     "metadata": {},
     "output_type": "execute_result"
    }
   ],
   "source": [
    "train_data[[\"Sex\", \"Age\"]].groupby(\"Sex\").mean()"
   ]
  },
  {
   "cell_type": "markdown",
   "metadata": {},
   "source": [
    "# What is the median age for male or female Titanic passengers?"
   ]
  },
  {
   "cell_type": "code",
   "execution_count": 43,
   "metadata": {},
   "outputs": [
    {
     "data": {
      "text/html": [
       "<div>\n",
       "<style scoped>\n",
       "    .dataframe tbody tr th:only-of-type {\n",
       "        vertical-align: middle;\n",
       "    }\n",
       "\n",
       "    .dataframe tbody tr th {\n",
       "        vertical-align: top;\n",
       "    }\n",
       "\n",
       "    .dataframe thead th {\n",
       "        text-align: right;\n",
       "    }\n",
       "</style>\n",
       "<table border=\"1\" class=\"dataframe\">\n",
       "  <thead>\n",
       "    <tr style=\"text-align: right;\">\n",
       "      <th></th>\n",
       "      <th>Age</th>\n",
       "    </tr>\n",
       "    <tr>\n",
       "      <th>Sex</th>\n",
       "      <th></th>\n",
       "    </tr>\n",
       "  </thead>\n",
       "  <tbody>\n",
       "    <tr>\n",
       "      <th>female</th>\n",
       "      <td>29.699118</td>\n",
       "    </tr>\n",
       "    <tr>\n",
       "      <th>male</th>\n",
       "      <td>29.699118</td>\n",
       "    </tr>\n",
       "  </tbody>\n",
       "</table>\n",
       "</div>"
      ],
      "text/plain": [
       "              Age\n",
       "Sex              \n",
       "female  29.699118\n",
       "male    29.699118"
      ]
     },
     "execution_count": 43,
     "metadata": {},
     "output_type": "execute_result"
    }
   ],
   "source": [
    "train_data[[\"Sex\", \"Age\"]].groupby(\"Sex\").median()"
   ]
  },
  {
   "cell_type": "markdown",
   "metadata": {},
   "source": [
    "# Show the mean values for numeric column for both male and female groups?"
   ]
  },
  {
   "cell_type": "code",
   "execution_count": 46,
   "metadata": {},
   "outputs": [
    {
     "data": {
      "text/html": [
       "<div>\n",
       "<style scoped>\n",
       "    .dataframe tbody tr th:only-of-type {\n",
       "        vertical-align: middle;\n",
       "    }\n",
       "\n",
       "    .dataframe tbody tr th {\n",
       "        vertical-align: top;\n",
       "    }\n",
       "\n",
       "    .dataframe thead th {\n",
       "        text-align: right;\n",
       "    }\n",
       "</style>\n",
       "<table border=\"1\" class=\"dataframe\">\n",
       "  <thead>\n",
       "    <tr style=\"text-align: right;\">\n",
       "      <th></th>\n",
       "      <th>PassengerId</th>\n",
       "      <th>Survived</th>\n",
       "      <th>Pclass</th>\n",
       "      <th>Age</th>\n",
       "      <th>SibSp</th>\n",
       "      <th>Parch</th>\n",
       "      <th>Fare</th>\n",
       "    </tr>\n",
       "    <tr>\n",
       "      <th>Sex</th>\n",
       "      <th></th>\n",
       "      <th></th>\n",
       "      <th></th>\n",
       "      <th></th>\n",
       "      <th></th>\n",
       "      <th></th>\n",
       "      <th></th>\n",
       "    </tr>\n",
       "  </thead>\n",
       "  <tbody>\n",
       "    <tr>\n",
       "      <th>female</th>\n",
       "      <td>431.028662</td>\n",
       "      <td>0.742038</td>\n",
       "      <td>2.159236</td>\n",
       "      <td>28.216730</td>\n",
       "      <td>0.694268</td>\n",
       "      <td>0.649682</td>\n",
       "      <td>44.479818</td>\n",
       "    </tr>\n",
       "    <tr>\n",
       "      <th>male</th>\n",
       "      <td>454.147314</td>\n",
       "      <td>0.188908</td>\n",
       "      <td>2.389948</td>\n",
       "      <td>30.505824</td>\n",
       "      <td>0.429809</td>\n",
       "      <td>0.235702</td>\n",
       "      <td>25.523893</td>\n",
       "    </tr>\n",
       "  </tbody>\n",
       "</table>\n",
       "</div>"
      ],
      "text/plain": [
       "        PassengerId  Survived    Pclass        Age     SibSp     Parch  \\\n",
       "Sex                                                                      \n",
       "female   431.028662  0.742038  2.159236  28.216730  0.694268  0.649682   \n",
       "male     454.147314  0.188908  2.389948  30.505824  0.429809  0.235702   \n",
       "\n",
       "             Fare  \n",
       "Sex                \n",
       "female  44.479818  \n",
       "male    25.523893  "
      ]
     },
     "execution_count": 46,
     "metadata": {},
     "output_type": "execute_result"
    }
   ],
   "source": [
    "train_data.groupby(\"Sex\").mean(numeric_only=True)"
   ]
  },
  {
   "cell_type": "markdown",
   "metadata": {},
   "source": [
    "# What is the mean ticket fare price for each of the sex and cabin class combinations?"
   ]
  },
  {
   "cell_type": "code",
   "execution_count": 48,
   "metadata": {},
   "outputs": [
    {
     "data": {
      "text/plain": [
       "Sex     Pclass\n",
       "female  1         106.125798\n",
       "        2          21.970121\n",
       "        3          16.118810\n",
       "male    1          67.226127\n",
       "        2          19.741782\n",
       "        3          12.661633\n",
       "Name: Fare, dtype: float64"
      ]
     },
     "execution_count": 48,
     "metadata": {},
     "output_type": "execute_result"
    }
   ],
   "source": [
    "train_data.groupby([\"Sex\", \"Pclass\"])[\"Fare\"].mean()"
   ]
  },
  {
   "cell_type": "markdown",
   "metadata": {},
   "source": [
    "# What is the number of passengers in each of the cabin classes?"
   ]
  },
  {
   "cell_type": "code",
   "execution_count": 51,
   "metadata": {},
   "outputs": [
    {
     "data": {
      "text/plain": [
       "Pclass\n",
       "3    491\n",
       "1    216\n",
       "2    184\n",
       "Name: count, dtype: int64"
      ]
     },
     "execution_count": 51,
     "metadata": {},
     "output_type": "execute_result"
    }
   ],
   "source": [
    "train_data[\"Pclass\"].value_counts()"
   ]
  },
  {
   "cell_type": "markdown",
   "metadata": {},
   "source": [
    "# Shows the count of passengers in each cabin classes?"
   ]
  },
  {
   "cell_type": "code",
   "execution_count": 53,
   "metadata": {},
   "outputs": [
    {
     "data": {
      "text/plain": [
       "Pclass\n",
       "1    216\n",
       "2    184\n",
       "3    491\n",
       "Name: Pclass, dtype: int64"
      ]
     },
     "execution_count": 53,
     "metadata": {},
     "output_type": "execute_result"
    }
   ],
   "source": [
    "train_data.groupby(\"Pclass\")[\"Pclass\"].count()\n"
   ]
  },
  {
   "cell_type": "code",
   "execution_count": 56,
   "metadata": {
    "execution": {
     "iopub.execute_input": "2023-10-20T23:59:49.611633Z",
     "iopub.status.busy": "2023-10-20T23:59:49.611190Z",
     "iopub.status.idle": "2023-10-20T23:59:49.620048Z",
     "shell.execute_reply": "2023-10-20T23:59:49.618583Z",
     "shell.execute_reply.started": "2023-10-20T23:59:49.611600Z"
    }
   },
   "outputs": [],
   "source": [
    "#features = ['Sex']\n",
    "dms = pd.get_dummies(train_data['Sex'])"
   ]
  },
  {
   "cell_type": "code",
   "execution_count": 57,
   "metadata": {
    "execution": {
     "iopub.execute_input": "2023-10-20T23:59:52.193603Z",
     "iopub.status.busy": "2023-10-20T23:59:52.193129Z",
     "iopub.status.idle": "2023-10-20T23:59:52.203979Z",
     "shell.execute_reply": "2023-10-20T23:59:52.202925Z",
     "shell.execute_reply.started": "2023-10-20T23:59:52.193567Z"
    }
   },
   "outputs": [
    {
     "data": {
      "text/html": [
       "<div>\n",
       "<style scoped>\n",
       "    .dataframe tbody tr th:only-of-type {\n",
       "        vertical-align: middle;\n",
       "    }\n",
       "\n",
       "    .dataframe tbody tr th {\n",
       "        vertical-align: top;\n",
       "    }\n",
       "\n",
       "    .dataframe thead th {\n",
       "        text-align: right;\n",
       "    }\n",
       "</style>\n",
       "<table border=\"1\" class=\"dataframe\">\n",
       "  <thead>\n",
       "    <tr style=\"text-align: right;\">\n",
       "      <th></th>\n",
       "      <th>female</th>\n",
       "      <th>male</th>\n",
       "    </tr>\n",
       "  </thead>\n",
       "  <tbody>\n",
       "    <tr>\n",
       "      <th>0</th>\n",
       "      <td>False</td>\n",
       "      <td>True</td>\n",
       "    </tr>\n",
       "    <tr>\n",
       "      <th>1</th>\n",
       "      <td>True</td>\n",
       "      <td>False</td>\n",
       "    </tr>\n",
       "    <tr>\n",
       "      <th>2</th>\n",
       "      <td>True</td>\n",
       "      <td>False</td>\n",
       "    </tr>\n",
       "    <tr>\n",
       "      <th>3</th>\n",
       "      <td>True</td>\n",
       "      <td>False</td>\n",
       "    </tr>\n",
       "    <tr>\n",
       "      <th>4</th>\n",
       "      <td>False</td>\n",
       "      <td>True</td>\n",
       "    </tr>\n",
       "  </tbody>\n",
       "</table>\n",
       "</div>"
      ],
      "text/plain": [
       "   female   male\n",
       "0   False   True\n",
       "1    True  False\n",
       "2    True  False\n",
       "3    True  False\n",
       "4   False   True"
      ]
     },
     "execution_count": 57,
     "metadata": {},
     "output_type": "execute_result"
    }
   ],
   "source": [
    "dms.head()"
   ]
  },
  {
   "cell_type": "code",
   "execution_count": 58,
   "metadata": {
    "execution": {
     "iopub.execute_input": "2023-10-21T00:00:00.625856Z",
     "iopub.status.busy": "2023-10-21T00:00:00.625446Z",
     "iopub.status.idle": "2023-10-21T00:00:00.635571Z",
     "shell.execute_reply": "2023-10-21T00:00:00.634398Z",
     "shell.execute_reply.started": "2023-10-21T00:00:00.625832Z"
    }
   },
   "outputs": [
    {
     "data": {
      "text/plain": [
       "['female', 'male']"
      ]
     },
     "execution_count": 58,
     "metadata": {},
     "output_type": "execute_result"
    }
   ],
   "source": [
    "list(dms.columns)"
   ]
  },
  {
   "cell_type": "code",
   "execution_count": 59,
   "metadata": {
    "execution": {
     "iopub.execute_input": "2023-10-21T00:03:45.315098Z",
     "iopub.status.busy": "2023-10-21T00:03:45.314612Z",
     "iopub.status.idle": "2023-10-21T00:03:45.331814Z",
     "shell.execute_reply": "2023-10-21T00:03:45.329723Z",
     "shell.execute_reply.started": "2023-10-21T00:03:45.315063Z"
    }
   },
   "outputs": [
    {
     "data": {
      "text/html": [
       "<div>\n",
       "<style scoped>\n",
       "    .dataframe tbody tr th:only-of-type {\n",
       "        vertical-align: middle;\n",
       "    }\n",
       "\n",
       "    .dataframe tbody tr th {\n",
       "        vertical-align: top;\n",
       "    }\n",
       "\n",
       "    .dataframe thead th {\n",
       "        text-align: right;\n",
       "    }\n",
       "</style>\n",
       "<table border=\"1\" class=\"dataframe\">\n",
       "  <thead>\n",
       "    <tr style=\"text-align: right;\">\n",
       "      <th></th>\n",
       "      <th>female</th>\n",
       "      <th>male</th>\n",
       "    </tr>\n",
       "  </thead>\n",
       "  <tbody>\n",
       "    <tr>\n",
       "      <th>0</th>\n",
       "      <td>False</td>\n",
       "      <td>True</td>\n",
       "    </tr>\n",
       "    <tr>\n",
       "      <th>1</th>\n",
       "      <td>True</td>\n",
       "      <td>False</td>\n",
       "    </tr>\n",
       "    <tr>\n",
       "      <th>2</th>\n",
       "      <td>True</td>\n",
       "      <td>False</td>\n",
       "    </tr>\n",
       "    <tr>\n",
       "      <th>3</th>\n",
       "      <td>True</td>\n",
       "      <td>False</td>\n",
       "    </tr>\n",
       "    <tr>\n",
       "      <th>4</th>\n",
       "      <td>False</td>\n",
       "      <td>True</td>\n",
       "    </tr>\n",
       "    <tr>\n",
       "      <th>...</th>\n",
       "      <td>...</td>\n",
       "      <td>...</td>\n",
       "    </tr>\n",
       "    <tr>\n",
       "      <th>886</th>\n",
       "      <td>False</td>\n",
       "      <td>True</td>\n",
       "    </tr>\n",
       "    <tr>\n",
       "      <th>887</th>\n",
       "      <td>True</td>\n",
       "      <td>False</td>\n",
       "    </tr>\n",
       "    <tr>\n",
       "      <th>888</th>\n",
       "      <td>True</td>\n",
       "      <td>False</td>\n",
       "    </tr>\n",
       "    <tr>\n",
       "      <th>889</th>\n",
       "      <td>False</td>\n",
       "      <td>True</td>\n",
       "    </tr>\n",
       "    <tr>\n",
       "      <th>890</th>\n",
       "      <td>False</td>\n",
       "      <td>True</td>\n",
       "    </tr>\n",
       "  </tbody>\n",
       "</table>\n",
       "<p>891 rows × 2 columns</p>\n",
       "</div>"
      ],
      "text/plain": [
       "     female   male\n",
       "0     False   True\n",
       "1      True  False\n",
       "2      True  False\n",
       "3      True  False\n",
       "4     False   True\n",
       "..      ...    ...\n",
       "886   False   True\n",
       "887    True  False\n",
       "888    True  False\n",
       "889   False   True\n",
       "890   False   True\n",
       "\n",
       "[891 rows x 2 columns]"
      ]
     },
     "execution_count": 59,
     "metadata": {},
     "output_type": "execute_result"
    }
   ],
   "source": [
    "dms[list(dms.columns)]"
   ]
  },
  {
   "cell_type": "code",
   "execution_count": 86,
   "metadata": {
    "execution": {
     "iopub.execute_input": "2023-10-21T00:01:37.653301Z",
     "iopub.status.busy": "2023-10-21T00:01:37.652816Z",
     "iopub.status.idle": "2023-10-21T00:01:37.677298Z",
     "shell.execute_reply": "2023-10-21T00:01:37.676047Z",
     "shell.execute_reply.started": "2023-10-21T00:01:37.653262Z"
    }
   },
   "outputs": [
    {
     "data": {
      "text/html": [
       "<div>\n",
       "<style scoped>\n",
       "    .dataframe tbody tr th:only-of-type {\n",
       "        vertical-align: middle;\n",
       "    }\n",
       "\n",
       "    .dataframe tbody tr th {\n",
       "        vertical-align: top;\n",
       "    }\n",
       "\n",
       "    .dataframe thead th {\n",
       "        text-align: right;\n",
       "    }\n",
       "</style>\n",
       "<table border=\"1\" class=\"dataframe\">\n",
       "  <thead>\n",
       "    <tr style=\"text-align: right;\">\n",
       "      <th></th>\n",
       "      <th>PassengerId</th>\n",
       "      <th>Pclass</th>\n",
       "      <th>Name</th>\n",
       "      <th>Age</th>\n",
       "      <th>SibSp</th>\n",
       "      <th>Parch</th>\n",
       "      <th>Ticket</th>\n",
       "      <th>Fare</th>\n",
       "      <th>Cabin</th>\n",
       "      <th>Embarked</th>\n",
       "    </tr>\n",
       "  </thead>\n",
       "  <tbody>\n",
       "    <tr>\n",
       "      <th>0</th>\n",
       "      <td>1</td>\n",
       "      <td>3</td>\n",
       "      <td>Braund, Mr. Owen Harris</td>\n",
       "      <td>22.000000</td>\n",
       "      <td>1</td>\n",
       "      <td>0</td>\n",
       "      <td>A/5 21171</td>\n",
       "      <td>7.2500</td>\n",
       "      <td>NaN</td>\n",
       "      <td>S</td>\n",
       "    </tr>\n",
       "    <tr>\n",
       "      <th>1</th>\n",
       "      <td>2</td>\n",
       "      <td>1</td>\n",
       "      <td>Cumings, Mrs. John Bradley (Florence Briggs Th...</td>\n",
       "      <td>38.000000</td>\n",
       "      <td>1</td>\n",
       "      <td>0</td>\n",
       "      <td>PC 17599</td>\n",
       "      <td>71.2833</td>\n",
       "      <td>C85</td>\n",
       "      <td>C</td>\n",
       "    </tr>\n",
       "    <tr>\n",
       "      <th>2</th>\n",
       "      <td>3</td>\n",
       "      <td>3</td>\n",
       "      <td>Heikkinen, Miss. Laina</td>\n",
       "      <td>26.000000</td>\n",
       "      <td>0</td>\n",
       "      <td>0</td>\n",
       "      <td>STON/O2. 3101282</td>\n",
       "      <td>7.9250</td>\n",
       "      <td>NaN</td>\n",
       "      <td>S</td>\n",
       "    </tr>\n",
       "    <tr>\n",
       "      <th>3</th>\n",
       "      <td>4</td>\n",
       "      <td>1</td>\n",
       "      <td>Futrelle, Mrs. Jacques Heath (Lily May Peel)</td>\n",
       "      <td>35.000000</td>\n",
       "      <td>1</td>\n",
       "      <td>0</td>\n",
       "      <td>113803</td>\n",
       "      <td>53.1000</td>\n",
       "      <td>C123</td>\n",
       "      <td>S</td>\n",
       "    </tr>\n",
       "    <tr>\n",
       "      <th>4</th>\n",
       "      <td>5</td>\n",
       "      <td>3</td>\n",
       "      <td>Allen, Mr. William Henry</td>\n",
       "      <td>35.000000</td>\n",
       "      <td>0</td>\n",
       "      <td>0</td>\n",
       "      <td>373450</td>\n",
       "      <td>8.0500</td>\n",
       "      <td>NaN</td>\n",
       "      <td>S</td>\n",
       "    </tr>\n",
       "    <tr>\n",
       "      <th>...</th>\n",
       "      <td>...</td>\n",
       "      <td>...</td>\n",
       "      <td>...</td>\n",
       "      <td>...</td>\n",
       "      <td>...</td>\n",
       "      <td>...</td>\n",
       "      <td>...</td>\n",
       "      <td>...</td>\n",
       "      <td>...</td>\n",
       "      <td>...</td>\n",
       "    </tr>\n",
       "    <tr>\n",
       "      <th>886</th>\n",
       "      <td>887</td>\n",
       "      <td>2</td>\n",
       "      <td>Montvila, Rev. Juozas</td>\n",
       "      <td>27.000000</td>\n",
       "      <td>0</td>\n",
       "      <td>0</td>\n",
       "      <td>211536</td>\n",
       "      <td>13.0000</td>\n",
       "      <td>NaN</td>\n",
       "      <td>S</td>\n",
       "    </tr>\n",
       "    <tr>\n",
       "      <th>887</th>\n",
       "      <td>888</td>\n",
       "      <td>1</td>\n",
       "      <td>Graham, Miss. Margaret Edith</td>\n",
       "      <td>19.000000</td>\n",
       "      <td>0</td>\n",
       "      <td>0</td>\n",
       "      <td>112053</td>\n",
       "      <td>30.0000</td>\n",
       "      <td>B42</td>\n",
       "      <td>S</td>\n",
       "    </tr>\n",
       "    <tr>\n",
       "      <th>888</th>\n",
       "      <td>889</td>\n",
       "      <td>3</td>\n",
       "      <td>Johnston, Miss. Catherine Helen \"Carrie\"</td>\n",
       "      <td>29.699118</td>\n",
       "      <td>1</td>\n",
       "      <td>2</td>\n",
       "      <td>W./C. 6607</td>\n",
       "      <td>23.4500</td>\n",
       "      <td>NaN</td>\n",
       "      <td>S</td>\n",
       "    </tr>\n",
       "    <tr>\n",
       "      <th>889</th>\n",
       "      <td>890</td>\n",
       "      <td>1</td>\n",
       "      <td>Behr, Mr. Karl Howell</td>\n",
       "      <td>26.000000</td>\n",
       "      <td>0</td>\n",
       "      <td>0</td>\n",
       "      <td>111369</td>\n",
       "      <td>30.0000</td>\n",
       "      <td>C148</td>\n",
       "      <td>C</td>\n",
       "    </tr>\n",
       "    <tr>\n",
       "      <th>890</th>\n",
       "      <td>891</td>\n",
       "      <td>3</td>\n",
       "      <td>Dooley, Mr. Patrick</td>\n",
       "      <td>32.000000</td>\n",
       "      <td>0</td>\n",
       "      <td>0</td>\n",
       "      <td>370376</td>\n",
       "      <td>7.7500</td>\n",
       "      <td>NaN</td>\n",
       "      <td>Q</td>\n",
       "    </tr>\n",
       "  </tbody>\n",
       "</table>\n",
       "<p>891 rows × 10 columns</p>\n",
       "</div>"
      ],
      "text/plain": [
       "     PassengerId  Pclass                                               Name  \\\n",
       "0              1       3                            Braund, Mr. Owen Harris   \n",
       "1              2       1  Cumings, Mrs. John Bradley (Florence Briggs Th...   \n",
       "2              3       3                             Heikkinen, Miss. Laina   \n",
       "3              4       1       Futrelle, Mrs. Jacques Heath (Lily May Peel)   \n",
       "4              5       3                           Allen, Mr. William Henry   \n",
       "..           ...     ...                                                ...   \n",
       "886          887       2                              Montvila, Rev. Juozas   \n",
       "887          888       1                       Graham, Miss. Margaret Edith   \n",
       "888          889       3           Johnston, Miss. Catherine Helen \"Carrie\"   \n",
       "889          890       1                              Behr, Mr. Karl Howell   \n",
       "890          891       3                                Dooley, Mr. Patrick   \n",
       "\n",
       "           Age  SibSp  Parch            Ticket     Fare Cabin Embarked  \n",
       "0    22.000000      1      0         A/5 21171   7.2500   NaN        S  \n",
       "1    38.000000      1      0          PC 17599  71.2833   C85        C  \n",
       "2    26.000000      0      0  STON/O2. 3101282   7.9250   NaN        S  \n",
       "3    35.000000      1      0            113803  53.1000  C123        S  \n",
       "4    35.000000      0      0            373450   8.0500   NaN        S  \n",
       "..         ...    ...    ...               ...      ...   ...      ...  \n",
       "886  27.000000      0      0            211536  13.0000   NaN        S  \n",
       "887  19.000000      0      0            112053  30.0000   B42        S  \n",
       "888  29.699118      1      2        W./C. 6607  23.4500   NaN        S  \n",
       "889  26.000000      0      0            111369  30.0000  C148        C  \n",
       "890  32.000000      0      0            370376   7.7500   NaN        Q  \n",
       "\n",
       "[891 rows x 10 columns]"
      ]
     },
     "execution_count": 86,
     "metadata": {},
     "output_type": "execute_result"
    }
   ],
   "source": [
    "#features based on survived\n",
    "y = train_data[\"Survived\"]\n",
    "X_ = train_data.drop(['Survived','Sex'], axis=1)\n",
    "X_"
   ]
  },
  {
   "cell_type": "code",
   "execution_count": 87,
   "metadata": {
    "execution": {
     "iopub.execute_input": "2023-10-21T00:03:19.461950Z",
     "iopub.status.busy": "2023-10-21T00:03:19.461502Z",
     "iopub.status.idle": "2023-10-21T00:03:19.474496Z",
     "shell.execute_reply": "2023-10-21T00:03:19.472657Z",
     "shell.execute_reply.started": "2023-10-21T00:03:19.461917Z"
    }
   },
   "outputs": [
    {
     "data": {
      "text/html": [
       "<div>\n",
       "<style scoped>\n",
       "    .dataframe tbody tr th:only-of-type {\n",
       "        vertical-align: middle;\n",
       "    }\n",
       "\n",
       "    .dataframe tbody tr th {\n",
       "        vertical-align: top;\n",
       "    }\n",
       "\n",
       "    .dataframe thead th {\n",
       "        text-align: right;\n",
       "    }\n",
       "</style>\n",
       "<table border=\"1\" class=\"dataframe\">\n",
       "  <thead>\n",
       "    <tr style=\"text-align: right;\">\n",
       "      <th></th>\n",
       "      <th>PassengerId</th>\n",
       "      <th>Pclass</th>\n",
       "      <th>Name</th>\n",
       "      <th>Age</th>\n",
       "      <th>SibSp</th>\n",
       "      <th>Parch</th>\n",
       "      <th>Ticket</th>\n",
       "      <th>Fare</th>\n",
       "      <th>Cabin</th>\n",
       "      <th>Embarked</th>\n",
       "    </tr>\n",
       "  </thead>\n",
       "  <tbody>\n",
       "    <tr>\n",
       "      <th>0</th>\n",
       "      <td>1</td>\n",
       "      <td>3</td>\n",
       "      <td>Braund, Mr. Owen Harris</td>\n",
       "      <td>22.0</td>\n",
       "      <td>1</td>\n",
       "      <td>0</td>\n",
       "      <td>A/5 21171</td>\n",
       "      <td>7.2500</td>\n",
       "      <td>NaN</td>\n",
       "      <td>S</td>\n",
       "    </tr>\n",
       "    <tr>\n",
       "      <th>1</th>\n",
       "      <td>2</td>\n",
       "      <td>1</td>\n",
       "      <td>Cumings, Mrs. John Bradley (Florence Briggs Th...</td>\n",
       "      <td>38.0</td>\n",
       "      <td>1</td>\n",
       "      <td>0</td>\n",
       "      <td>PC 17599</td>\n",
       "      <td>71.2833</td>\n",
       "      <td>C85</td>\n",
       "      <td>C</td>\n",
       "    </tr>\n",
       "    <tr>\n",
       "      <th>2</th>\n",
       "      <td>3</td>\n",
       "      <td>3</td>\n",
       "      <td>Heikkinen, Miss. Laina</td>\n",
       "      <td>26.0</td>\n",
       "      <td>0</td>\n",
       "      <td>0</td>\n",
       "      <td>STON/O2. 3101282</td>\n",
       "      <td>7.9250</td>\n",
       "      <td>NaN</td>\n",
       "      <td>S</td>\n",
       "    </tr>\n",
       "    <tr>\n",
       "      <th>3</th>\n",
       "      <td>4</td>\n",
       "      <td>1</td>\n",
       "      <td>Futrelle, Mrs. Jacques Heath (Lily May Peel)</td>\n",
       "      <td>35.0</td>\n",
       "      <td>1</td>\n",
       "      <td>0</td>\n",
       "      <td>113803</td>\n",
       "      <td>53.1000</td>\n",
       "      <td>C123</td>\n",
       "      <td>S</td>\n",
       "    </tr>\n",
       "    <tr>\n",
       "      <th>4</th>\n",
       "      <td>5</td>\n",
       "      <td>3</td>\n",
       "      <td>Allen, Mr. William Henry</td>\n",
       "      <td>35.0</td>\n",
       "      <td>0</td>\n",
       "      <td>0</td>\n",
       "      <td>373450</td>\n",
       "      <td>8.0500</td>\n",
       "      <td>NaN</td>\n",
       "      <td>S</td>\n",
       "    </tr>\n",
       "  </tbody>\n",
       "</table>\n",
       "</div>"
      ],
      "text/plain": [
       "   PassengerId  Pclass                                               Name  \\\n",
       "0            1       3                            Braund, Mr. Owen Harris   \n",
       "1            2       1  Cumings, Mrs. John Bradley (Florence Briggs Th...   \n",
       "2            3       3                             Heikkinen, Miss. Laina   \n",
       "3            4       1       Futrelle, Mrs. Jacques Heath (Lily May Peel)   \n",
       "4            5       3                           Allen, Mr. William Henry   \n",
       "\n",
       "    Age  SibSp  Parch            Ticket     Fare Cabin Embarked  \n",
       "0  22.0      1      0         A/5 21171   7.2500   NaN        S  \n",
       "1  38.0      1      0          PC 17599  71.2833   C85        C  \n",
       "2  26.0      0      0  STON/O2. 3101282   7.9250   NaN        S  \n",
       "3  35.0      1      0            113803  53.1000  C123        S  \n",
       "4  35.0      0      0            373450   8.0500   NaN        S  "
      ]
     },
     "execution_count": 87,
     "metadata": {},
     "output_type": "execute_result"
    }
   ],
   "source": [
    "X_.head()"
   ]
  },
  {
   "cell_type": "code",
   "execution_count": 88,
   "metadata": {
    "execution": {
     "iopub.execute_input": "2023-10-21T00:03:14.794040Z",
     "iopub.status.busy": "2023-10-21T00:03:14.793615Z",
     "iopub.status.idle": "2023-10-21T00:03:14.806151Z",
     "shell.execute_reply": "2023-10-21T00:03:14.804114Z",
     "shell.execute_reply.started": "2023-10-21T00:03:14.794008Z"
    }
   },
   "outputs": [],
   "source": [
    "X_ = X_.drop([\"Name\",\"Ticket\",\"Cabin\",\"Embarked\"], axis=1)"
   ]
  },
  {
   "cell_type": "code",
   "execution_count": 89,
   "metadata": {
    "execution": {
     "iopub.execute_input": "2023-10-21T00:05:05.966065Z",
     "iopub.status.busy": "2023-10-21T00:05:05.963906Z",
     "iopub.status.idle": "2023-10-21T00:05:05.973340Z",
     "shell.execute_reply": "2023-10-21T00:05:05.971756Z",
     "shell.execute_reply.started": "2023-10-21T00:05:05.965993Z"
    }
   },
   "outputs": [],
   "source": [
    "X = pd.concat([X_, dms['female']], axis=1)"
   ]
  },
  {
   "cell_type": "code",
   "execution_count": 90,
   "metadata": {
    "execution": {
     "iopub.execute_input": "2023-10-21T00:05:11.342796Z",
     "iopub.status.busy": "2023-10-21T00:05:11.342391Z",
     "iopub.status.idle": "2023-10-21T00:05:11.362056Z",
     "shell.execute_reply": "2023-10-21T00:05:11.360756Z",
     "shell.execute_reply.started": "2023-10-21T00:05:11.342765Z"
    }
   },
   "outputs": [
    {
     "data": {
      "text/html": [
       "<div>\n",
       "<style scoped>\n",
       "    .dataframe tbody tr th:only-of-type {\n",
       "        vertical-align: middle;\n",
       "    }\n",
       "\n",
       "    .dataframe tbody tr th {\n",
       "        vertical-align: top;\n",
       "    }\n",
       "\n",
       "    .dataframe thead th {\n",
       "        text-align: right;\n",
       "    }\n",
       "</style>\n",
       "<table border=\"1\" class=\"dataframe\">\n",
       "  <thead>\n",
       "    <tr style=\"text-align: right;\">\n",
       "      <th></th>\n",
       "      <th>PassengerId</th>\n",
       "      <th>Pclass</th>\n",
       "      <th>Age</th>\n",
       "      <th>SibSp</th>\n",
       "      <th>Parch</th>\n",
       "      <th>Fare</th>\n",
       "      <th>female</th>\n",
       "    </tr>\n",
       "  </thead>\n",
       "  <tbody>\n",
       "    <tr>\n",
       "      <th>0</th>\n",
       "      <td>1</td>\n",
       "      <td>3</td>\n",
       "      <td>22.000000</td>\n",
       "      <td>1</td>\n",
       "      <td>0</td>\n",
       "      <td>7.2500</td>\n",
       "      <td>False</td>\n",
       "    </tr>\n",
       "    <tr>\n",
       "      <th>1</th>\n",
       "      <td>2</td>\n",
       "      <td>1</td>\n",
       "      <td>38.000000</td>\n",
       "      <td>1</td>\n",
       "      <td>0</td>\n",
       "      <td>71.2833</td>\n",
       "      <td>True</td>\n",
       "    </tr>\n",
       "    <tr>\n",
       "      <th>2</th>\n",
       "      <td>3</td>\n",
       "      <td>3</td>\n",
       "      <td>26.000000</td>\n",
       "      <td>0</td>\n",
       "      <td>0</td>\n",
       "      <td>7.9250</td>\n",
       "      <td>True</td>\n",
       "    </tr>\n",
       "    <tr>\n",
       "      <th>3</th>\n",
       "      <td>4</td>\n",
       "      <td>1</td>\n",
       "      <td>35.000000</td>\n",
       "      <td>1</td>\n",
       "      <td>0</td>\n",
       "      <td>53.1000</td>\n",
       "      <td>True</td>\n",
       "    </tr>\n",
       "    <tr>\n",
       "      <th>4</th>\n",
       "      <td>5</td>\n",
       "      <td>3</td>\n",
       "      <td>35.000000</td>\n",
       "      <td>0</td>\n",
       "      <td>0</td>\n",
       "      <td>8.0500</td>\n",
       "      <td>False</td>\n",
       "    </tr>\n",
       "    <tr>\n",
       "      <th>...</th>\n",
       "      <td>...</td>\n",
       "      <td>...</td>\n",
       "      <td>...</td>\n",
       "      <td>...</td>\n",
       "      <td>...</td>\n",
       "      <td>...</td>\n",
       "      <td>...</td>\n",
       "    </tr>\n",
       "    <tr>\n",
       "      <th>886</th>\n",
       "      <td>887</td>\n",
       "      <td>2</td>\n",
       "      <td>27.000000</td>\n",
       "      <td>0</td>\n",
       "      <td>0</td>\n",
       "      <td>13.0000</td>\n",
       "      <td>False</td>\n",
       "    </tr>\n",
       "    <tr>\n",
       "      <th>887</th>\n",
       "      <td>888</td>\n",
       "      <td>1</td>\n",
       "      <td>19.000000</td>\n",
       "      <td>0</td>\n",
       "      <td>0</td>\n",
       "      <td>30.0000</td>\n",
       "      <td>True</td>\n",
       "    </tr>\n",
       "    <tr>\n",
       "      <th>888</th>\n",
       "      <td>889</td>\n",
       "      <td>3</td>\n",
       "      <td>29.699118</td>\n",
       "      <td>1</td>\n",
       "      <td>2</td>\n",
       "      <td>23.4500</td>\n",
       "      <td>True</td>\n",
       "    </tr>\n",
       "    <tr>\n",
       "      <th>889</th>\n",
       "      <td>890</td>\n",
       "      <td>1</td>\n",
       "      <td>26.000000</td>\n",
       "      <td>0</td>\n",
       "      <td>0</td>\n",
       "      <td>30.0000</td>\n",
       "      <td>False</td>\n",
       "    </tr>\n",
       "    <tr>\n",
       "      <th>890</th>\n",
       "      <td>891</td>\n",
       "      <td>3</td>\n",
       "      <td>32.000000</td>\n",
       "      <td>0</td>\n",
       "      <td>0</td>\n",
       "      <td>7.7500</td>\n",
       "      <td>False</td>\n",
       "    </tr>\n",
       "  </tbody>\n",
       "</table>\n",
       "<p>891 rows × 7 columns</p>\n",
       "</div>"
      ],
      "text/plain": [
       "     PassengerId  Pclass        Age  SibSp  Parch     Fare  female\n",
       "0              1       3  22.000000      1      0   7.2500   False\n",
       "1              2       1  38.000000      1      0  71.2833    True\n",
       "2              3       3  26.000000      0      0   7.9250    True\n",
       "3              4       1  35.000000      1      0  53.1000    True\n",
       "4              5       3  35.000000      0      0   8.0500   False\n",
       "..           ...     ...        ...    ...    ...      ...     ...\n",
       "886          887       2  27.000000      0      0  13.0000   False\n",
       "887          888       1  19.000000      0      0  30.0000    True\n",
       "888          889       3  29.699118      1      2  23.4500    True\n",
       "889          890       1  26.000000      0      0  30.0000   False\n",
       "890          891       3  32.000000      0      0   7.7500   False\n",
       "\n",
       "[891 rows x 7 columns]"
      ]
     },
     "execution_count": 90,
     "metadata": {},
     "output_type": "execute_result"
    }
   ],
   "source": [
    "X"
   ]
  },
  {
   "cell_type": "code",
   "execution_count": 91,
   "metadata": {
    "execution": {
     "iopub.execute_input": "2023-10-21T00:05:20.021629Z",
     "iopub.status.busy": "2023-10-21T00:05:20.021183Z",
     "iopub.status.idle": "2023-10-21T00:05:20.051894Z",
     "shell.execute_reply": "2023-10-21T00:05:20.050868Z",
     "shell.execute_reply.started": "2023-10-21T00:05:20.021602Z"
    }
   },
   "outputs": [
    {
     "data": {
      "text/html": [
       "<div>\n",
       "<style scoped>\n",
       "    .dataframe tbody tr th:only-of-type {\n",
       "        vertical-align: middle;\n",
       "    }\n",
       "\n",
       "    .dataframe tbody tr th {\n",
       "        vertical-align: top;\n",
       "    }\n",
       "\n",
       "    .dataframe thead th {\n",
       "        text-align: right;\n",
       "    }\n",
       "</style>\n",
       "<table border=\"1\" class=\"dataframe\">\n",
       "  <thead>\n",
       "    <tr style=\"text-align: right;\">\n",
       "      <th></th>\n",
       "      <th>count</th>\n",
       "      <th>mean</th>\n",
       "      <th>std</th>\n",
       "      <th>min</th>\n",
       "      <th>25%</th>\n",
       "      <th>50%</th>\n",
       "      <th>75%</th>\n",
       "      <th>max</th>\n",
       "    </tr>\n",
       "  </thead>\n",
       "  <tbody>\n",
       "    <tr>\n",
       "      <th>PassengerId</th>\n",
       "      <td>891.0</td>\n",
       "      <td>446.000000</td>\n",
       "      <td>257.353842</td>\n",
       "      <td>1.00</td>\n",
       "      <td>223.5000</td>\n",
       "      <td>446.000000</td>\n",
       "      <td>668.5</td>\n",
       "      <td>891.0000</td>\n",
       "    </tr>\n",
       "    <tr>\n",
       "      <th>Pclass</th>\n",
       "      <td>891.0</td>\n",
       "      <td>2.308642</td>\n",
       "      <td>0.836071</td>\n",
       "      <td>1.00</td>\n",
       "      <td>2.0000</td>\n",
       "      <td>3.000000</td>\n",
       "      <td>3.0</td>\n",
       "      <td>3.0000</td>\n",
       "    </tr>\n",
       "    <tr>\n",
       "      <th>Age</th>\n",
       "      <td>891.0</td>\n",
       "      <td>29.699118</td>\n",
       "      <td>13.002015</td>\n",
       "      <td>0.42</td>\n",
       "      <td>22.0000</td>\n",
       "      <td>29.699118</td>\n",
       "      <td>35.0</td>\n",
       "      <td>80.0000</td>\n",
       "    </tr>\n",
       "    <tr>\n",
       "      <th>SibSp</th>\n",
       "      <td>891.0</td>\n",
       "      <td>0.523008</td>\n",
       "      <td>1.102743</td>\n",
       "      <td>0.00</td>\n",
       "      <td>0.0000</td>\n",
       "      <td>0.000000</td>\n",
       "      <td>1.0</td>\n",
       "      <td>8.0000</td>\n",
       "    </tr>\n",
       "    <tr>\n",
       "      <th>Parch</th>\n",
       "      <td>891.0</td>\n",
       "      <td>0.381594</td>\n",
       "      <td>0.806057</td>\n",
       "      <td>0.00</td>\n",
       "      <td>0.0000</td>\n",
       "      <td>0.000000</td>\n",
       "      <td>0.0</td>\n",
       "      <td>6.0000</td>\n",
       "    </tr>\n",
       "    <tr>\n",
       "      <th>Fare</th>\n",
       "      <td>891.0</td>\n",
       "      <td>32.204208</td>\n",
       "      <td>49.693429</td>\n",
       "      <td>0.00</td>\n",
       "      <td>7.9104</td>\n",
       "      <td>14.454200</td>\n",
       "      <td>31.0</td>\n",
       "      <td>512.3292</td>\n",
       "    </tr>\n",
       "  </tbody>\n",
       "</table>\n",
       "</div>"
      ],
      "text/plain": [
       "             count        mean         std   min       25%         50%    75%  \\\n",
       "PassengerId  891.0  446.000000  257.353842  1.00  223.5000  446.000000  668.5   \n",
       "Pclass       891.0    2.308642    0.836071  1.00    2.0000    3.000000    3.0   \n",
       "Age          891.0   29.699118   13.002015  0.42   22.0000   29.699118   35.0   \n",
       "SibSp        891.0    0.523008    1.102743  0.00    0.0000    0.000000    1.0   \n",
       "Parch        891.0    0.381594    0.806057  0.00    0.0000    0.000000    0.0   \n",
       "Fare         891.0   32.204208   49.693429  0.00    7.9104   14.454200   31.0   \n",
       "\n",
       "                  max  \n",
       "PassengerId  891.0000  \n",
       "Pclass         3.0000  \n",
       "Age           80.0000  \n",
       "SibSp          8.0000  \n",
       "Parch          6.0000  \n",
       "Fare         512.3292  "
      ]
     },
     "execution_count": 91,
     "metadata": {},
     "output_type": "execute_result"
    }
   ],
   "source": [
    "X.describe().T"
   ]
  },
  {
   "cell_type": "code",
   "execution_count": 92,
   "metadata": {
    "execution": {
     "iopub.execute_input": "2023-10-21T00:05:23.499502Z",
     "iopub.status.busy": "2023-10-21T00:05:23.499048Z",
     "iopub.status.idle": "2023-10-21T00:05:23.512358Z",
     "shell.execute_reply": "2023-10-21T00:05:23.510505Z",
     "shell.execute_reply.started": "2023-10-21T00:05:23.499478Z"
    }
   },
   "outputs": [
    {
     "name": "stdout",
     "output_type": "stream",
     "text": [
      "<class 'pandas.core.frame.DataFrame'>\n",
      "RangeIndex: 891 entries, 0 to 890\n",
      "Data columns (total 7 columns):\n",
      " #   Column       Non-Null Count  Dtype  \n",
      "---  ------       --------------  -----  \n",
      " 0   PassengerId  891 non-null    int64  \n",
      " 1   Pclass       891 non-null    int64  \n",
      " 2   Age          891 non-null    float64\n",
      " 3   SibSp        891 non-null    int64  \n",
      " 4   Parch        891 non-null    int64  \n",
      " 5   Fare         891 non-null    float64\n",
      " 6   female       891 non-null    bool   \n",
      "dtypes: bool(1), float64(2), int64(4)\n",
      "memory usage: 42.8 KB\n"
     ]
    }
   ],
   "source": [
    "X.info()"
   ]
  },
  {
   "cell_type": "code",
   "execution_count": 93,
   "metadata": {
    "execution": {
     "iopub.execute_input": "2023-10-21T00:06:12.658290Z",
     "iopub.status.busy": "2023-10-21T00:06:12.657846Z",
     "iopub.status.idle": "2023-10-21T00:06:12.667044Z",
     "shell.execute_reply": "2023-10-21T00:06:12.664728Z",
     "shell.execute_reply.started": "2023-10-21T00:06:12.658263Z"
    }
   },
   "outputs": [],
   "source": [
    "X.index = X['PassengerId']\n",
    "X = X.drop(['PassengerId'], axis=1)"
   ]
  },
  {
   "cell_type": "code",
   "execution_count": 94,
   "metadata": {
    "execution": {
     "iopub.execute_input": "2023-10-21T00:06:19.836930Z",
     "iopub.status.busy": "2023-10-21T00:06:19.836460Z",
     "iopub.status.idle": "2023-10-21T00:06:20.090569Z",
     "shell.execute_reply": "2023-10-21T00:06:20.088874Z",
     "shell.execute_reply.started": "2023-10-21T00:06:19.836894Z"
    }
   },
   "outputs": [
    {
     "data": {
      "image/png": "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",
      "text/plain": [
       "<Figure size 640x480 with 2 Axes>"
      ]
     },
     "metadata": {},
     "output_type": "display_data"
    }
   ],
   "source": [
    "import matplotlib.pyplot as plt\n",
    "import seaborn as sns\n",
    "\n",
    "sns.heatmap(X.corr())\n",
    "plt.show()"
   ]
  },
  {
   "cell_type": "code",
   "execution_count": 95,
   "metadata": {},
   "outputs": [
    {
     "data": {
      "image/png": "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",
      "text/plain": [
       "<Figure size 640x480 with 1 Axes>"
      ]
     },
     "metadata": {},
     "output_type": "display_data"
    }
   ],
   "source": [
    "import matplotlib.pyplot as plt\n",
    "y.value_counts().plot(kind='bar')\n",
    "plt.xlabel('Survived')\n",
    "plt.ylabel('Count')\n",
    "plt.title('Survived Counts')\n",
    "plt.show()\n"
   ]
  },
  {
   "cell_type": "markdown",
   "metadata": {},
   "source": [
    "# Split the dataset"
   ]
  },
  {
   "cell_type": "code",
   "execution_count": 96,
   "metadata": {
    "execution": {
     "iopub.execute_input": "2023-10-21T00:06:34.020669Z",
     "iopub.status.busy": "2023-10-21T00:06:34.020273Z",
     "iopub.status.idle": "2023-10-21T00:06:34.027298Z",
     "shell.execute_reply": "2023-10-21T00:06:34.026423Z",
     "shell.execute_reply.started": "2023-10-21T00:06:34.020644Z"
    }
   },
   "outputs": [],
   "source": [
    "X_train, X_test, y_train, y_test = train_test_split(X, y,test_size=0.25,random_state=42)\n"
   ]
  },
  {
   "cell_type": "code",
   "execution_count": 97,
   "metadata": {
    "execution": {
     "iopub.execute_input": "2023-10-21T00:06:45.966482Z",
     "iopub.status.busy": "2023-10-21T00:06:45.966064Z",
     "iopub.status.idle": "2023-10-21T00:06:45.982688Z",
     "shell.execute_reply": "2023-10-21T00:06:45.981076Z",
     "shell.execute_reply.started": "2023-10-21T00:06:45.966457Z"
    }
   },
   "outputs": [
    {
     "data": {
      "text/html": [
       "<div>\n",
       "<style scoped>\n",
       "    .dataframe tbody tr th:only-of-type {\n",
       "        vertical-align: middle;\n",
       "    }\n",
       "\n",
       "    .dataframe tbody tr th {\n",
       "        vertical-align: top;\n",
       "    }\n",
       "\n",
       "    .dataframe thead th {\n",
       "        text-align: right;\n",
       "    }\n",
       "</style>\n",
       "<table border=\"1\" class=\"dataframe\">\n",
       "  <thead>\n",
       "    <tr style=\"text-align: right;\">\n",
       "      <th></th>\n",
       "      <th>Pclass</th>\n",
       "      <th>Age</th>\n",
       "      <th>SibSp</th>\n",
       "      <th>Parch</th>\n",
       "      <th>Fare</th>\n",
       "      <th>female</th>\n",
       "    </tr>\n",
       "    <tr>\n",
       "      <th>PassengerId</th>\n",
       "      <th></th>\n",
       "      <th></th>\n",
       "      <th></th>\n",
       "      <th></th>\n",
       "      <th></th>\n",
       "      <th></th>\n",
       "    </tr>\n",
       "  </thead>\n",
       "  <tbody>\n",
       "    <tr>\n",
       "      <th>299</th>\n",
       "      <td>1</td>\n",
       "      <td>29.699118</td>\n",
       "      <td>0</td>\n",
       "      <td>0</td>\n",
       "      <td>30.5000</td>\n",
       "      <td>False</td>\n",
       "    </tr>\n",
       "    <tr>\n",
       "      <th>885</th>\n",
       "      <td>3</td>\n",
       "      <td>25.000000</td>\n",
       "      <td>0</td>\n",
       "      <td>0</td>\n",
       "      <td>7.0500</td>\n",
       "      <td>False</td>\n",
       "    </tr>\n",
       "    <tr>\n",
       "      <th>248</th>\n",
       "      <td>2</td>\n",
       "      <td>24.000000</td>\n",
       "      <td>0</td>\n",
       "      <td>2</td>\n",
       "      <td>14.5000</td>\n",
       "      <td>True</td>\n",
       "    </tr>\n",
       "    <tr>\n",
       "      <th>479</th>\n",
       "      <td>3</td>\n",
       "      <td>22.000000</td>\n",
       "      <td>0</td>\n",
       "      <td>0</td>\n",
       "      <td>7.5208</td>\n",
       "      <td>False</td>\n",
       "    </tr>\n",
       "    <tr>\n",
       "      <th>306</th>\n",
       "      <td>1</td>\n",
       "      <td>0.920000</td>\n",
       "      <td>1</td>\n",
       "      <td>2</td>\n",
       "      <td>151.5500</td>\n",
       "      <td>False</td>\n",
       "    </tr>\n",
       "  </tbody>\n",
       "</table>\n",
       "</div>"
      ],
      "text/plain": [
       "             Pclass        Age  SibSp  Parch      Fare  female\n",
       "PassengerId                                                   \n",
       "299               1  29.699118      0      0   30.5000   False\n",
       "885               3  25.000000      0      0    7.0500   False\n",
       "248               2  24.000000      0      2   14.5000    True\n",
       "479               3  22.000000      0      0    7.5208   False\n",
       "306               1   0.920000      1      2  151.5500   False"
      ]
     },
     "execution_count": 97,
     "metadata": {},
     "output_type": "execute_result"
    }
   ],
   "source": [
    "X_train.head()"
   ]
  },
  {
   "cell_type": "markdown",
   "metadata": {},
   "source": [
    "# Data Modeling "
   ]
  },
  {
   "cell_type": "code",
   "execution_count": 98,
   "metadata": {
    "execution": {
     "iopub.execute_input": "2023-10-21T00:06:57.748093Z",
     "iopub.status.busy": "2023-10-21T00:06:57.747612Z",
     "iopub.status.idle": "2023-10-21T00:06:57.756552Z",
     "shell.execute_reply": "2023-10-21T00:06:57.753791Z",
     "shell.execute_reply.started": "2023-10-21T00:06:57.748060Z"
    }
   },
   "outputs": [],
   "source": [
    "rf_model = RandomForestRegressor(random_state = 42)"
   ]
  },
  {
   "cell_type": "code",
   "execution_count": 99,
   "metadata": {
    "execution": {
     "iopub.execute_input": "2023-10-21T00:07:17.107901Z",
     "iopub.status.busy": "2023-10-21T00:07:17.107430Z",
     "iopub.status.idle": "2023-10-21T00:07:17.282113Z",
     "shell.execute_reply": "2023-10-21T00:07:17.281123Z",
     "shell.execute_reply.started": "2023-10-21T00:07:17.107863Z"
    }
   },
   "outputs": [
    {
     "data": {
      "text/html": [
       "<style>#sk-container-id-4 {color: black;}#sk-container-id-4 pre{padding: 0;}#sk-container-id-4 div.sk-toggleable {background-color: white;}#sk-container-id-4 label.sk-toggleable__label {cursor: pointer;display: block;width: 100%;margin-bottom: 0;padding: 0.3em;box-sizing: border-box;text-align: center;}#sk-container-id-4 label.sk-toggleable__label-arrow:before {content: \"▸\";float: left;margin-right: 0.25em;color: #696969;}#sk-container-id-4 label.sk-toggleable__label-arrow:hover:before {color: black;}#sk-container-id-4 div.sk-estimator:hover label.sk-toggleable__label-arrow:before {color: black;}#sk-container-id-4 div.sk-toggleable__content {max-height: 0;max-width: 0;overflow: hidden;text-align: left;background-color: #f0f8ff;}#sk-container-id-4 div.sk-toggleable__content pre {margin: 0.2em;color: black;border-radius: 0.25em;background-color: #f0f8ff;}#sk-container-id-4 input.sk-toggleable__control:checked~div.sk-toggleable__content {max-height: 200px;max-width: 100%;overflow: auto;}#sk-container-id-4 input.sk-toggleable__control:checked~label.sk-toggleable__label-arrow:before {content: \"▾\";}#sk-container-id-4 div.sk-estimator input.sk-toggleable__control:checked~label.sk-toggleable__label {background-color: #d4ebff;}#sk-container-id-4 div.sk-label input.sk-toggleable__control:checked~label.sk-toggleable__label {background-color: #d4ebff;}#sk-container-id-4 input.sk-hidden--visually {border: 0;clip: rect(1px 1px 1px 1px);clip: rect(1px, 1px, 1px, 1px);height: 1px;margin: -1px;overflow: hidden;padding: 0;position: absolute;width: 1px;}#sk-container-id-4 div.sk-estimator {font-family: monospace;background-color: #f0f8ff;border: 1px dotted black;border-radius: 0.25em;box-sizing: border-box;margin-bottom: 0.5em;}#sk-container-id-4 div.sk-estimator:hover {background-color: #d4ebff;}#sk-container-id-4 div.sk-parallel-item::after {content: \"\";width: 100%;border-bottom: 1px solid gray;flex-grow: 1;}#sk-container-id-4 div.sk-label:hover label.sk-toggleable__label {background-color: #d4ebff;}#sk-container-id-4 div.sk-serial::before {content: \"\";position: absolute;border-left: 1px solid gray;box-sizing: border-box;top: 0;bottom: 0;left: 50%;z-index: 0;}#sk-container-id-4 div.sk-serial {display: flex;flex-direction: column;align-items: center;background-color: white;padding-right: 0.2em;padding-left: 0.2em;position: relative;}#sk-container-id-4 div.sk-item {position: relative;z-index: 1;}#sk-container-id-4 div.sk-parallel {display: flex;align-items: stretch;justify-content: center;background-color: white;position: relative;}#sk-container-id-4 div.sk-item::before, #sk-container-id-4 div.sk-parallel-item::before {content: \"\";position: absolute;border-left: 1px solid gray;box-sizing: border-box;top: 0;bottom: 0;left: 50%;z-index: -1;}#sk-container-id-4 div.sk-parallel-item {display: flex;flex-direction: column;z-index: 1;position: relative;background-color: white;}#sk-container-id-4 div.sk-parallel-item:first-child::after {align-self: flex-end;width: 50%;}#sk-container-id-4 div.sk-parallel-item:last-child::after {align-self: flex-start;width: 50%;}#sk-container-id-4 div.sk-parallel-item:only-child::after {width: 0;}#sk-container-id-4 div.sk-dashed-wrapped {border: 1px dashed gray;margin: 0 0.4em 0.5em 0.4em;box-sizing: border-box;padding-bottom: 0.4em;background-color: white;}#sk-container-id-4 div.sk-label label {font-family: monospace;font-weight: bold;display: inline-block;line-height: 1.2em;}#sk-container-id-4 div.sk-label-container {text-align: center;}#sk-container-id-4 div.sk-container {/* jupyter's `normalize.less` sets `[hidden] { display: none; }` but bootstrap.min.css set `[hidden] { display: none !important; }` so we also need the `!important` here to be able to override the default hidden behavior on the sphinx rendered scikit-learn.org. See: https://github.com/scikit-learn/scikit-learn/issues/21755 */display: inline-block !important;position: relative;}#sk-container-id-4 div.sk-text-repr-fallback {display: none;}</style><div id=\"sk-container-id-4\" class=\"sk-top-container\"><div class=\"sk-text-repr-fallback\"><pre>RandomForestRegressor(random_state=42)</pre><b>In a Jupyter environment, please rerun this cell to show the HTML representation or trust the notebook. <br />On GitHub, the HTML representation is unable to render, please try loading this page with nbviewer.org.</b></div><div class=\"sk-container\" hidden><div class=\"sk-item\"><div class=\"sk-estimator sk-toggleable\"><input class=\"sk-toggleable__control sk-hidden--visually\" id=\"sk-estimator-id-4\" type=\"checkbox\" checked><label for=\"sk-estimator-id-4\" class=\"sk-toggleable__label sk-toggleable__label-arrow\">RandomForestRegressor</label><div class=\"sk-toggleable__content\"><pre>RandomForestRegressor(random_state=42)</pre></div></div></div></div></div>"
      ],
      "text/plain": [
       "RandomForestRegressor(random_state=42)"
      ]
     },
     "execution_count": 99,
     "metadata": {},
     "output_type": "execute_result"
    }
   ],
   "source": [
    "rf_model.fit(X_train, y_train)"
   ]
  },
  {
   "cell_type": "code",
   "execution_count": 100,
   "metadata": {
    "execution": {
     "iopub.execute_input": "2023-10-21T00:07:22.557169Z",
     "iopub.status.busy": "2023-10-21T00:07:22.556634Z",
     "iopub.status.idle": "2023-10-21T00:07:22.579686Z",
     "shell.execute_reply": "2023-10-21T00:07:22.577870Z",
     "shell.execute_reply.started": "2023-10-21T00:07:22.557129Z"
    }
   },
   "outputs": [
    {
     "data": {
      "text/plain": [
       "array([0.13      , 0.2       , 0.15833333, 0.99      , 0.44      ,\n",
       "       0.83      , 0.86351082, 0.17      , 0.56555556, 0.99      ,\n",
       "       0.57      , 0.04      , 0.05      , 0.01      , 0.19      ])"
      ]
     },
     "execution_count": 100,
     "metadata": {},
     "output_type": "execute_result"
    }
   ],
   "source": [
    "rf_model.predict(X_test)[0:15]"
   ]
  },
  {
   "cell_type": "code",
   "execution_count": 101,
   "metadata": {
    "execution": {
     "iopub.execute_input": "2023-10-21T00:07:28.953597Z",
     "iopub.status.busy": "2023-10-21T00:07:28.953250Z",
     "iopub.status.idle": "2023-10-21T00:07:28.969026Z",
     "shell.execute_reply": "2023-10-21T00:07:28.966825Z",
     "shell.execute_reply.started": "2023-10-21T00:07:28.953573Z"
    }
   },
   "outputs": [],
   "source": [
    "y_pred = rf_model.predict(X_test)"
   ]
  },
  {
   "cell_type": "markdown",
   "metadata": {},
   "source": []
  },
  {
   "cell_type": "code",
   "execution_count": 103,
   "metadata": {
    "execution": {
     "iopub.execute_input": "2023-10-21T00:07:36.119349Z",
     "iopub.status.busy": "2023-10-21T00:07:36.118887Z",
     "iopub.status.idle": "2023-10-21T00:07:36.129323Z",
     "shell.execute_reply": "2023-10-21T00:07:36.127511Z",
     "shell.execute_reply.started": "2023-10-21T00:07:36.119323Z"
    }
   },
   "outputs": [
    {
     "data": {
      "text/plain": [
       "0.39130010612504434"
      ]
     },
     "execution_count": 103,
     "metadata": {},
     "output_type": "execute_result"
    }
   ],
   "source": [
    "np.sqrt(mean_squared_error(y_test, y_pred))"
   ]
  },
  {
   "cell_type": "code",
   "execution_count": 110,
   "metadata": {},
   "outputs": [],
   "source": [
    "# Prediction\n",
    "rf_model.fit(X_train, y_train)  # Assuming you have X_train and y_train for training\n",
    "\n",
    "predictions = rf_model.predict(X_test)  # Assuming you have X_test for testing"
   ]
  },
  {
   "cell_type": "code",
   "execution_count": 118,
   "metadata": {},
   "outputs": [
    {
     "data": {
      "text/html": [
       "<div>\n",
       "<style scoped>\n",
       "    .dataframe tbody tr th:only-of-type {\n",
       "        vertical-align: middle;\n",
       "    }\n",
       "\n",
       "    .dataframe tbody tr th {\n",
       "        vertical-align: top;\n",
       "    }\n",
       "\n",
       "    .dataframe thead th {\n",
       "        text-align: right;\n",
       "    }\n",
       "</style>\n",
       "<table border=\"1\" class=\"dataframe\">\n",
       "  <thead>\n",
       "    <tr style=\"text-align: right;\">\n",
       "      <th></th>\n",
       "      <th>Pclass</th>\n",
       "      <th>Age</th>\n",
       "      <th>SibSp</th>\n",
       "      <th>Parch</th>\n",
       "      <th>Fare</th>\n",
       "      <th>female</th>\n",
       "    </tr>\n",
       "    <tr>\n",
       "      <th>PassengerId</th>\n",
       "      <th></th>\n",
       "      <th></th>\n",
       "      <th></th>\n",
       "      <th></th>\n",
       "      <th></th>\n",
       "      <th></th>\n",
       "    </tr>\n",
       "  </thead>\n",
       "  <tbody>\n",
       "    <tr>\n",
       "      <th>710</th>\n",
       "      <td>3</td>\n",
       "      <td>29.699118</td>\n",
       "      <td>1</td>\n",
       "      <td>1</td>\n",
       "      <td>15.2458</td>\n",
       "      <td>False</td>\n",
       "    </tr>\n",
       "    <tr>\n",
       "      <th>440</th>\n",
       "      <td>2</td>\n",
       "      <td>31.000000</td>\n",
       "      <td>0</td>\n",
       "      <td>0</td>\n",
       "      <td>10.5000</td>\n",
       "      <td>False</td>\n",
       "    </tr>\n",
       "    <tr>\n",
       "      <th>841</th>\n",
       "      <td>3</td>\n",
       "      <td>20.000000</td>\n",
       "      <td>0</td>\n",
       "      <td>0</td>\n",
       "      <td>7.9250</td>\n",
       "      <td>False</td>\n",
       "    </tr>\n",
       "    <tr>\n",
       "      <th>721</th>\n",
       "      <td>2</td>\n",
       "      <td>6.000000</td>\n",
       "      <td>0</td>\n",
       "      <td>1</td>\n",
       "      <td>33.0000</td>\n",
       "      <td>True</td>\n",
       "    </tr>\n",
       "    <tr>\n",
       "      <th>40</th>\n",
       "      <td>3</td>\n",
       "      <td>14.000000</td>\n",
       "      <td>1</td>\n",
       "      <td>0</td>\n",
       "      <td>11.2417</td>\n",
       "      <td>True</td>\n",
       "    </tr>\n",
       "    <tr>\n",
       "      <th>...</th>\n",
       "      <td>...</td>\n",
       "      <td>...</td>\n",
       "      <td>...</td>\n",
       "      <td>...</td>\n",
       "      <td>...</td>\n",
       "      <td>...</td>\n",
       "    </tr>\n",
       "    <tr>\n",
       "      <th>881</th>\n",
       "      <td>2</td>\n",
       "      <td>25.000000</td>\n",
       "      <td>0</td>\n",
       "      <td>1</td>\n",
       "      <td>26.0000</td>\n",
       "      <td>True</td>\n",
       "    </tr>\n",
       "    <tr>\n",
       "      <th>426</th>\n",
       "      <td>3</td>\n",
       "      <td>29.699118</td>\n",
       "      <td>0</td>\n",
       "      <td>0</td>\n",
       "      <td>7.2500</td>\n",
       "      <td>False</td>\n",
       "    </tr>\n",
       "    <tr>\n",
       "      <th>102</th>\n",
       "      <td>3</td>\n",
       "      <td>29.699118</td>\n",
       "      <td>0</td>\n",
       "      <td>0</td>\n",
       "      <td>7.8958</td>\n",
       "      <td>False</td>\n",
       "    </tr>\n",
       "    <tr>\n",
       "      <th>200</th>\n",
       "      <td>2</td>\n",
       "      <td>24.000000</td>\n",
       "      <td>0</td>\n",
       "      <td>0</td>\n",
       "      <td>13.0000</td>\n",
       "      <td>True</td>\n",
       "    </tr>\n",
       "    <tr>\n",
       "      <th>425</th>\n",
       "      <td>3</td>\n",
       "      <td>18.000000</td>\n",
       "      <td>1</td>\n",
       "      <td>1</td>\n",
       "      <td>20.2125</td>\n",
       "      <td>False</td>\n",
       "    </tr>\n",
       "  </tbody>\n",
       "</table>\n",
       "<p>223 rows × 6 columns</p>\n",
       "</div>"
      ],
      "text/plain": [
       "             Pclass        Age  SibSp  Parch     Fare  female\n",
       "PassengerId                                                  \n",
       "710               3  29.699118      1      1  15.2458   False\n",
       "440               2  31.000000      0      0  10.5000   False\n",
       "841               3  20.000000      0      0   7.9250   False\n",
       "721               2   6.000000      0      1  33.0000    True\n",
       "40                3  14.000000      1      0  11.2417    True\n",
       "...             ...        ...    ...    ...      ...     ...\n",
       "881               2  25.000000      0      1  26.0000    True\n",
       "426               3  29.699118      0      0   7.2500   False\n",
       "102               3  29.699118      0      0   7.8958   False\n",
       "200               2  24.000000      0      0  13.0000    True\n",
       "425               3  18.000000      1      1  20.2125   False\n",
       "\n",
       "[223 rows x 6 columns]"
      ]
     },
     "execution_count": 118,
     "metadata": {},
     "output_type": "execute_result"
    }
   ],
   "source": [
    "X_test"
   ]
  },
  {
   "cell_type": "code",
   "execution_count": null,
   "metadata": {},
   "outputs": [],
   "source": []
  }
 ],
 "metadata": {
  "kernelspec": {
   "display_name": "Python 3 (ipykernel)",
   "language": "python",
   "name": "python3"
  },
  "language_info": {
   "codemirror_mode": {
    "name": "ipython",
    "version": 3
   },
   "file_extension": ".py",
   "mimetype": "text/x-python",
   "name": "python",
   "nbconvert_exporter": "python",
   "pygments_lexer": "ipython3",
   "version": "3.11.5"
  }
 },
 "nbformat": 4,
 "nbformat_minor": 4
}
